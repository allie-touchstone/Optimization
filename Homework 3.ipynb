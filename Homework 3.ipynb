{
 "cells": [
  {
   "cell_type": "code",
   "execution_count": 1,
   "id": "0140b18d",
   "metadata": {},
   "outputs": [],
   "source": [
    "import numpy as np\n",
    "import gurobipy as gp"
   ]
  },
  {
   "cell_type": "markdown",
   "id": "b668e081",
   "metadata": {},
   "source": [
    "# Question 1\n",
    "This is just a practice problem if you want to learn how branch and bound works. If you don't then you don't need to do this question, it is worth 0 points on the assignment!\n",
    "\n",
    "I did not do this question."
   ]
  },
  {
   "cell_type": "markdown",
   "id": "6f99a5fc",
   "metadata": {},
   "source": [
    "# Question 2\n",
    "\n",
    "A company is thinking about building new facilities in Austin and Dallas. Here is the relevant data.\n",
    "    \n",
    "                        Capital Needed          Expected Profit\n",
    "    Factory in Austin:     $ 6 M                    $ 9 M\n",
    "\n",
    "    Factory in Dallas:     $ 3 M                    $ 5 M\n",
    "\n",
    "    Warehouse in Austin:   $ 5 M                    $ 6 M\n",
    "\n",
    "    Warehouse in Dallas:   $ 2 M                    $ 4 M\n",
    "    \n",
    "Total capital available for investment is $11M. You can’t build more than one factory (warehouse) in one place. At most one warehouse must be built in Austin or Dallas. At least one factory must be built in Austin or Dallas. Find the optimal investment strategy."
   ]
  },
  {
   "cell_type": "code",
   "execution_count": 54,
   "id": "02e1af67",
   "metadata": {},
   "outputs": [],
   "source": [
    "obj = np.array([9,5,6,4])\n",
    "sense = ['<','>','<']\n",
    "A = np.zeros((3,4))\n",
    "A[0,:] = [6,3,5,2]\n",
    "A[1,:] = [1,1,0,0]\n",
    "A[2,:] = [0,0,1,1]\n",
    "b = np.array([11,1,1])"
   ]
  },
  {
   "cell_type": "code",
   "execution_count": 64,
   "id": "aeeff7ac",
   "metadata": {},
   "outputs": [],
   "source": [
    "avdMod = gp.Model()\n",
    "avdMod_x = avdMod.addMVar(len(obj),vtype=['B']*len(obj))\n",
    "avdMod_con = avdMod.addMConstrs(A, avdMod_x, sense, b)\n",
    "avdMod.setMObjective(None,obj,0,sense=gp.GRB.MAXIMIZE)\n",
    "\n",
    "avdMod.Params.OutputFlag = 0 # tell gurobi to shut up!!\n",
    "avdMod.optimize()"
   ]
  },
  {
   "cell_type": "markdown",
   "id": "8c175714",
   "metadata": {},
   "source": [
    "Is building the Factory in Dallas part of the optimal investment strategy?\n",
    "\n",
    "The array is read as: \n",
    "\n",
    "( Factory in Austin, Factory in Dallas, Warehouse in Austin, Warehouse in Dallas)"
   ]
  },
  {
   "cell_type": "code",
   "execution_count": 56,
   "id": "0496a631",
   "metadata": {},
   "outputs": [
    {
     "data": {
      "text/plain": [
       "array([1., 1., 0., 1.])"
      ]
     },
     "execution_count": 56,
     "metadata": {},
     "output_type": "execute_result"
    }
   ],
   "source": [
    "avdMod_x.x"
   ]
  },
  {
   "cell_type": "markdown",
   "id": "f85081ed",
   "metadata": {},
   "source": [
    "### Answer:\n",
    "Yes, building a factory in Dallas is in the optimal investment strategy."
   ]
  },
  {
   "cell_type": "markdown",
   "id": "8bae734f",
   "metadata": {},
   "source": [
    "# Question 3\n",
    "\n",
    "Western Airlines wants to design a hub system in the United States. Each hub is used for connecting flights to and from cities within 1000 miles of the hub. Western runs flights among the following cities: Atlanta (ATL), Boston (BOS), Chicago (CHI), Denver (DEN), Houston (HOU), Los Angeles (LAX), New Orleans (NO), New York (NY), Pittsburgh (PIT), Salt Lake City (SLC), San Francisco (SF), and Seattle (SEA). The company wants to determine the smallest number of hubs it needs to cover all these cities, where a city is covered if it is within 1000 miles of at least one hub. The table below lists which cities are within 1000 miles of other cities. For example, if a hub was placed at Boston (BOS), it could cover the cities of Boston, New York, and Pittsburgh.\n",
    "\n",
    "            ATL:   BOS:   CHI:   DEN:   HOU:   LAX:    NO:   NY:   PIT:   SCL:    SF:   SEA:\n",
    "    ATL:     X      0      X      0      X      0      X     X      X      0      0      0\n",
    "    BOS:     0      X      0      0      0      0      0     X      X      0      0      0\n",
    "    CHI:     X      0      X      0      0      0      X     X      X      0      0      0\n",
    "    DEN:     0      0      0      X      0      0      0     0      0      X      0      0 \n",
    "    HOU:     X      0      0      0      X      0      X     0      0      0      0      0\n",
    "    LAX:     0      0      0      0      0      X      0     0      0      X      X      0\n",
    "    NO:      X      0      X      0      X      0      X     0      0      0      0      0\n",
    "    NY:      X      X      X      0      0      0      0     X      X      0      0      0\n",
    "    PIT:     X      X      X      0      0      0      0     X      X      0      0      0\n",
    "    SCL:     0      0      0      X      0      X      0     0      0      X      X      X\n",
    "    SF:      0      0      0      0      0      X      0     0      0      X      X      X\n",
    "    SEA:     0      0      0      0      0      0      0     0      0      X      X      X\n",
    "    \n",
    "Formulate and solve this problem as a binary integer program."
   ]
  },
  {
   "cell_type": "code",
   "execution_count": 59,
   "id": "e18f98bc",
   "metadata": {},
   "outputs": [],
   "source": [
    "obj = np.array([1,1,1,1,1,1,1,1,1,1,1,1])\n",
    "sense = ['>']* 12\n",
    "A = np.zeros((12,12))\n",
    "A[0,:] = [1,0,1,0,1,0,1,1,1,0,0,0] # ATL\n",
    "A[1,:] = [0,1,0,0,0,0,0,1,1,0,0,0] # BOS\n",
    "A[2,:] = [1,0,1,0,0,0,1,1,1,0,0,0] # CHI\n",
    "A[3,:] = [0,0,0,1,0,0,0,0,0,1,0,0] # DEN\n",
    "\n",
    "A[4,:] = [1,0,0,0,1,0,1,0,0,0,0,0] # HOU\n",
    "A[5,:] = [0,0,0,0,0,1,0,0,0,1,1,0] # LAX\n",
    "A[6,:] = [1,0,1,0,1,0,1,0,0,0,0,0] # NO\n",
    "A[7,:] = [1,1,1,0,0,0,0,1,1,0,0,0] # NY\n",
    "\n",
    "A[8,:] = [1,1,1,0,0,0,0,1,1,0,0,0] # PIT\n",
    "A[9,:] = [0,0,0,1,0,1,0,0,0,1,1,1] # SLC\n",
    "A[10,:] = [0,0,0,0,0,1,0,0,0,1,1,1] # SF\n",
    "A[11,:] = [0,0,0,0,0,0,0,0,0,1,1,1] # SEA\n",
    "b = np.array([1]*12)"
   ]
  },
  {
   "cell_type": "code",
   "execution_count": 65,
   "id": "b79ecd76",
   "metadata": {},
   "outputs": [],
   "source": [
    "wstMod = gp.Model()\n",
    "wstMod_x = wstMod.addMVar(len(obj),vtype=['B']*len(obj)) \n",
    "wstMod_con = wstMod.addMConstrs(A, wstMod_x, sense, b)\n",
    "wstMod.setMObjective(None,obj,0,sense=gp.GRB.MINIMIZE)\n",
    "\n",
    "wstMod.Params.OutputFlag = 0 # tell gurobi to shut up!!\n",
    "wstMod.optimize()"
   ]
  },
  {
   "cell_type": "code",
   "execution_count": 61,
   "id": "c932accd",
   "metadata": {},
   "outputs": [
    {
     "data": {
      "text/plain": [
       "array([1., 0., 0., 0., 0., 0., 0., 0., 1., 1., 0., 0.])"
      ]
     },
     "execution_count": 61,
     "metadata": {},
     "output_type": "execute_result"
    }
   ],
   "source": [
    "wstMod_x.x"
   ]
  },
  {
   "cell_type": "markdown",
   "id": "5e8f23e7",
   "metadata": {},
   "source": [
    "Is SLC a hub in the optimal solution?"
   ]
  },
  {
   "cell_type": "code",
   "execution_count": 58,
   "id": "e5410e17",
   "metadata": {},
   "outputs": [
    {
     "data": {
      "text/plain": [
       "1.0"
      ]
     },
     "execution_count": 58,
     "metadata": {},
     "output_type": "execute_result"
    }
   ],
   "source": [
    "wstMod_x.x[9]"
   ]
  },
  {
   "cell_type": "markdown",
   "id": "44a201a6",
   "metadata": {},
   "source": [
    "### Answer: \n",
    "Yes, SLC is a hub in the optimal solution."
   ]
  },
  {
   "cell_type": "markdown",
   "id": "6d09840f",
   "metadata": {},
   "source": [
    "# Question 4\n",
    "\n",
    "A paper mill cuts the rolls of paper into different widths to satisfy customers’ demand. In this problem, assume the original rolls of paper are 120 inches wide. The table below shows the orders received by the paper mill.\n",
    "\n",
    "    WIDTH    QUANTITY\n",
    "     25       233\n",
    "     37       148\n",
    "     54       106\n",
    "\n",
    "A 120 inch roll can be cut in many ways. For example, we can cut four 25-inch rolls while wasting the\n",
    "remaining 20 inches; we can also cut one 25-inch, one 37-inch, and one 54-inch. In the second case, only 4 inches is wasted.\n",
    "\n",
    "Develop and solve an integer program to minimize the waste from cutting to satisfy all orders. For more information, you can check out the cutting stock problem on wikipedia: https://en.wikipedia.org /wiki/Cutting_stock_problem     (https://en.wikipedia.org/wiki/Cutting_stock_problem)\n"
   ]
  },
  {
   "cell_type": "code",
   "execution_count": 2,
   "id": "2c1a2d84",
   "metadata": {},
   "outputs": [],
   "source": [
    "obj = np.array([90,70,45,20,82,46,9,66,12,58,4,21,33,8,29,16,41])\n",
    "sense = ['='] * 3\n",
    "                       \n",
    "A = np.zeros((3,17))\n",
    "A[0,:] = [1,2,3,4,0,0,0,0,0,1,1,1,2,3,0,2,1] # 25 in width\n",
    "A[1,:] = [0,0,0,0,1,2,3,0,0,1,1,2,1,1,1,0,0] # 37 in width\n",
    "A[2,:] = [0,0,0,0,0,0,0,1,2,0,1,0,0,0,1,1,1] # 54 in width\n",
    "\n",
    "b = np.array([233,148,106]) # How much is needed"
   ]
  },
  {
   "cell_type": "code",
   "execution_count": 3,
   "id": "5a5b22a5",
   "metadata": {},
   "outputs": [
    {
     "name": "stdout",
     "output_type": "stream",
     "text": [
      "Restricted license - for non-production use only - expires 2022-01-13\n"
     ]
    }
   ],
   "source": [
    "paperMod = gp.Model()\n",
    "paperMod_x = paperMod.addMVar(len(obj),vtype=['I']*len(obj)) # 'C' or 'I' or 'B'\n",
    "paperMod_con = paperMod.addMConstrs(A, paperMod_x, sense, b)\n",
    "paperMod.setMObjective(None,obj,0,sense=gp.GRB.MINIMIZE)\n",
    "\n",
    "paperMod.Params.OutputFlag = 0 # tell gurobi to shut up!!\n",
    "paperMod.optimize()"
   ]
  },
  {
   "cell_type": "markdown",
   "id": "22458249",
   "metadata": {},
   "source": [
    "How many rolls get cut into the pattern such that there are 3 cuts of 25 inches, and 1 cut of 37 inches (this pattern results in 8\" waste)?"
   ]
  },
  {
   "cell_type": "code",
   "execution_count": 4,
   "id": "7641fd95",
   "metadata": {},
   "outputs": [
    {
     "data": {
      "text/plain": [
       "array([  1.,   0.,   0.,   0.,   0.,   0.,   0.,   0.,   0.,   0., 106.,\n",
       "         0.,   0.,  42.,   0.,   0.,   0.])"
      ]
     },
     "execution_count": 4,
     "metadata": {},
     "output_type": "execute_result"
    }
   ],
   "source": [
    "paperMod_x.x"
   ]
  },
  {
   "cell_type": "markdown",
   "id": "6dc5c0e5",
   "metadata": {},
   "source": [
    "### Answer: \n",
    "42 rolls should be cut into the pattern of 3 cuts of 25 inches, and 1 cut of 37 inches."
   ]
  },
  {
   "cell_type": "markdown",
   "id": "b727920a",
   "metadata": {},
   "source": [
    "# Question 5\n",
    "\n",
    "The days-off scheduling problem must be solved routinely by businesses that operate 6 or 7 days a week. Examples include hospitals, airlines, municipal transportation companies, and the postal service. The most common example is the (5,7)-cyclic staffing problem. The objective of it is to minimize the cost of assigning workers to a 7-day cyclic schedule so that\n",
    "1) Sufficient workers are available every day.\n",
    "\n",
    "2) Each person works 5 consecutive days and is idle to the remaining 2 days.\n",
    "\n",
    "Here is the table showing the cost of having an employee for each day and the number of employees required for each day.\n",
    "\n",
    "                  SUN.  MON.  TUES.  WED.  THUR.  FRI.  SAT.\n",
    "       COST       90    60    60     60    60     60    90\n",
    "       REQUIRED   5     13    12     10    14     8     6\n",
    " \n",
    "For example, the pattern that one works from Sunday to Thursday costs 90 + 60 × 4 = 330. \n",
    "\n",
    "Formulate and solve an integer programming problem to represent this problem."
   ]
  },
  {
   "cell_type": "code",
   "execution_count": 7,
   "id": "70990bcc",
   "metadata": {},
   "outputs": [],
   "source": [
    "obj = np.array([330,300,330,360,360,360,360])\n",
    "sense = ['>']*7\n",
    "A = np.zeros((7,7))\n",
    "A[0,:] = [1,0,0,1,1,1,1] # Sunday off\n",
    "A[1,:] = [1,1,0,0,1,1,1] # Monday off\n",
    "A[2,:] = [1,1,1,0,0,1,1] # Tuesday off\n",
    "A[3,:] = [1,1,1,1,0,0,1] # Wednesday off\n",
    "A[4,:] = [1,1,1,1,1,0,0] # Thursday off\n",
    "A[5,:] = [0,1,1,1,1,1,0] # Friday off\n",
    "A[6,:] = [0,0,1,1,1,1,1] # Saturday off\n",
    "\n",
    "b = np.array([5,13,12,10,14,8,6])"
   ]
  },
  {
   "cell_type": "code",
   "execution_count": 8,
   "id": "818ea0ff",
   "metadata": {},
   "outputs": [],
   "source": [
    "daysoffMod = gp.Model()\n",
    "daysoffMod_x = daysoffMod.addMVar(len(obj),vtype=['I']*len(obj)) # 'C' or 'I' or 'B'\n",
    "daysoffMod_con = daysoffMod.addMConstrs(A, daysoffMod_x, sense, b)\n",
    "daysoffMod.setMObjective(None,obj,0,sense=gp.GRB.MINIMIZE)\n",
    "\n",
    "daysoffMod.Params.OutputFlag = 0 # tell gurobi to shut up!!\n",
    "daysoffMod.optimize()"
   ]
  },
  {
   "cell_type": "markdown",
   "id": "b20b8647",
   "metadata": {},
   "source": [
    "How many employees work Monday-Friday?"
   ]
  },
  {
   "cell_type": "code",
   "execution_count": 9,
   "id": "97ced251",
   "metadata": {},
   "outputs": [
    {
     "data": {
      "text/plain": [
       "array([ 1.,  8.,  2., -0.,  3.,  1., -0.])"
      ]
     },
     "execution_count": 9,
     "metadata": {},
     "output_type": "execute_result"
    }
   ],
   "source": [
    "daysoffMod_x.x"
   ]
  },
  {
   "cell_type": "markdown",
   "id": "3946f6dd",
   "metadata": {},
   "source": [
    "### Answer: \n",
    "8 employees work Monday - Friday."
   ]
  }
 ],
 "metadata": {
  "kernelspec": {
   "display_name": "Python 3 (ipykernel)",
   "language": "python",
   "name": "python3"
  },
  "language_info": {
   "codemirror_mode": {
    "name": "ipython",
    "version": 3
   },
   "file_extension": ".py",
   "mimetype": "text/x-python",
   "name": "python",
   "nbconvert_exporter": "python",
   "pygments_lexer": "ipython3",
   "version": "3.8.11"
  }
 },
 "nbformat": 4,
 "nbformat_minor": 5
}
