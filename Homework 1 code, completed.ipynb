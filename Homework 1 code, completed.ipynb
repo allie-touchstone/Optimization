{
 "cells": [
  {
   "cell_type": "code",
   "execution_count": 299,
   "id": "c742b6b3",
   "metadata": {},
   "outputs": [],
   "source": [
    "import numpy as np"
   ]
  },
  {
   "cell_type": "markdown",
   "id": "6deab099",
   "metadata": {},
   "source": [
    "# Question 1\n",
    "A bank makes four kinds of loans to its customers and these loans yield the following annual interest rates to the bank:\n",
    "\n",
    "* First mortgage 14% \n",
    "* Second mortgage 20%\n",
    "* Home improvement 20% \n",
    "* Personal overdraft 10%\n",
    "\n",
    "We are interested in the bank’s lending strategy. The information we know is as following:\n",
    "\n",
    "1. In total $250 million is lent out.\n",
    "2. First mortgages are 55% of all mortgages (i.e. first and second mortgage) issued.\n",
    "\n",
    "3. Second mortgages are 25% of all loans issued.\n",
    "4. The dollar-weighted average interest rate on all loans is 15%.\n",
    "\n",
    "Calculate the lending strategy using matrix inversion.  How much is lent in home improvement loans?\n",
    "\n",
    " \n",
    "\n",
    "Answer in millions of dollars, rounded to 2 decimal places.  If the answer is $23080444.12, then you should enter 23.08."
   ]
  },
  {
   "cell_type": "code",
   "execution_count": 312,
   "id": "b825cd12",
   "metadata": {},
   "outputs": [],
   "source": [
    "# the 4 equations in matrix format\n",
    "A = np.zeros((4,4))\n",
    "A[0,:] = [1,1,1,1] \n",
    "A[1,:] = [0.45,-0.55,0,0]\n",
    "A[2,:] = [0,1,0,0]\n",
    "A[3,:] = [0.14,0.2,0.2,0.1]"
   ]
  },
  {
   "cell_type": "code",
   "execution_count": 313,
   "id": "5f831155",
   "metadata": {},
   "outputs": [],
   "source": [
    "b = np.array([250,0,62.5, 37.5])"
   ]
  },
  {
   "cell_type": "code",
   "execution_count": null,
   "id": "5ed4036f",
   "metadata": {},
   "outputs": [],
   "source": []
  },
  {
   "cell_type": "code",
   "execution_count": 314,
   "id": "db2f35de",
   "metadata": {},
   "outputs": [
    {
     "data": {
      "text/plain": [
       "array([76.38888889, 62.5       , 31.94444444, 79.16666667])"
      ]
     },
     "execution_count": 314,
     "metadata": {},
     "output_type": "execute_result"
    }
   ],
   "source": [
    "# amount owed back for each loan\n",
    "np.linalg.solve(A,b)"
   ]
  },
  {
   "cell_type": "code",
   "execution_count": 214,
   "id": "7bd2f719",
   "metadata": {},
   "outputs": [
    {
     "data": {
      "text/plain": [
       "37.4999999996"
      ]
     },
     "execution_count": 214,
     "metadata": {},
     "output_type": "execute_result"
    }
   ],
   "source": [
    "# intrest check\n",
    "76.38888889*.14+ 62.5*.2+ 31.94444444*.2+ 79.16666667*.1"
   ]
  },
  {
   "cell_type": "code",
   "execution_count": 343,
   "id": "1e3439d4",
   "metadata": {},
   "outputs": [
    {
     "data": {
      "text/plain": [
       "37.5"
      ]
     },
     "execution_count": 343,
     "metadata": {},
     "output_type": "execute_result"
    }
   ],
   "source": [
    "# intrest check lines up with total intrest\n",
    "250*.15"
   ]
  },
  {
   "cell_type": "markdown",
   "id": "1599c4a7",
   "metadata": {},
   "source": [
    "$31.94 million was lent in the home improvement loan."
   ]
  },
  {
   "cell_type": "markdown",
   "id": "14bbca22",
   "metadata": {},
   "source": [
    "# Question 2\n",
    "\n",
    "Part 1\n",
    "\n",
    "Pose a matrix equation to solve for individual ratings of the form X r = y, the entries for coefficient matrix X represent the difference in ratings for the opponents in each game and y represents the difference in score of each game. Each row in X is a game between 2 teams.  This is the 5 unknown and 10 equation system."
   ]
  },
  {
   "cell_type": "markdown",
   "id": "1440e832",
   "metadata": {},
   "source": [
    "Part 2\n",
    "\n",
    "Typically the number of games is much greater than the number of teams, which means our system is overdetermined and we cannot solve the matrix equation by simply inverting the coefficient matrix. However, we can solve for approximate rating using least squares. Consider the normal equation for least squares of the form\n",
    "\n",
    "$X^⊤X r = X^⊤ y$\n",
    "\n",
    "If you don't know how to take matrix transpose in python, you can google it.\n",
    "Let $M = X^⊤X$. We can interpret the diagonal elements of M as the number of games played by a team and the off diagonal elements of the matrix M as the negation of the number of games played by team i against team j. Similarly the jth entry for the RHS $p = X^⊤y$ is the sum of the difference in points for every game played by team j.\n",
    "Use the information above to determine the entries for M and $X^⊤y$ in our new system."
   ]
  },
  {
   "cell_type": "markdown",
   "id": "9e8631fe",
   "metadata": {},
   "source": [
    "Part 3\n",
    "\n",
    "The matrix M is not invertible. So you cannot solve for ratings, r by inverting M. However, to make it invertible you can add a constraint. For simplicity let us assume that all our ratings add to 0.\n",
    "\n",
    "Modify your matrix equation Mr = p to incorporate this constraint and get a new system  \n",
    "\n",
    "$M_c r = p_c$.\n",
    "\n",
    "To do this remove the last row in M and $(X^⊤ y)$ and replace it with an equation that guarantees all entries of r sum to 0.\n",
    "\n",
    "Finally, solve for the ratings of the teams with data above and sort them to get team rankings.\n",
    "\n",
    " \n",
    "\n",
    "Which team is the second best team?"
   ]
  },
  {
   "cell_type": "code",
   "execution_count": 328,
   "id": "8abd25da",
   "metadata": {},
   "outputs": [],
   "source": [
    "# games played (10 equations), teams (5 unknowns)\n",
    "A = np.zeros((10,5))\n",
    "A[0,:] = [1,-1,0,0,0]\n",
    "A[1,:] = [1,0,-1,0,0]\n",
    "A[2,:] = [1,0,0,-1,0]\n",
    "A[3,:] = [1,0,0,0,-1]\n",
    "A[4,:] = [0,1,-1,0,0]\n",
    "A[5,:] = [0,1,0,-1,0]\n",
    "A[6,:] = [0,1,0,0,-1]\n",
    "A[7,:] = [0,0,1,-1,0]\n",
    "A[8,:] = [0,0,1,0,-1]\n",
    "A[9,:] = [0,0,0,1,-1]"
   ]
  },
  {
   "cell_type": "code",
   "execution_count": 329,
   "id": "7c4c618c",
   "metadata": {},
   "outputs": [
    {
     "data": {
      "text/plain": [
       "array([-45,  -3, -31, -45,  18,   8,  20,   2, -27, -38])"
      ]
     },
     "execution_count": 329,
     "metadata": {},
     "output_type": "execute_result"
    }
   ],
   "source": [
    "# how much the lower numberd team won by\n",
    "# ex: team 1 lost by 45 to team 2 (first number in b)\n",
    "b = np.array([-45,-3,-31,-45,18,8,20,2,-27,-38])\n",
    "b"
   ]
  },
  {
   "cell_type": "code",
   "execution_count": 330,
   "id": "6a6ea957",
   "metadata": {},
   "outputs": [
    {
     "data": {
      "text/plain": [
       "array([[ 4., -1., -1., -1., -1.],\n",
       "       [-1.,  4., -1., -1., -1.],\n",
       "       [-1., -1.,  4., -1., -1.],\n",
       "       [-1., -1., -1.,  4., -1.],\n",
       "       [-1., -1., -1., -1.,  4.]])"
      ]
     },
     "execution_count": 330,
     "metadata": {},
     "output_type": "execute_result"
    }
   ],
   "source": [
    "# part 2, transposing\n",
    "At = np.zeros((5,10))\n",
    "At = np.transpose(A) \n",
    "At @ A"
   ]
  },
  {
   "cell_type": "code",
   "execution_count": 332,
   "id": "93470f39",
   "metadata": {},
   "outputs": [],
   "source": [
    "# part 2, new names\n",
    "M = At @ A\n",
    "p = At @ b"
   ]
  },
  {
   "cell_type": "code",
   "execution_count": 333,
   "id": "edcaf662",
   "metadata": {},
   "outputs": [],
   "source": [
    "# part 3, adding constraints\n",
    "M[4,:] = [1,1,1,1,1]\n",
    "p[4] = 0"
   ]
  },
  {
   "cell_type": "code",
   "execution_count": 334,
   "id": "5a247e82",
   "metadata": {},
   "outputs": [],
   "source": [
    "p[4] = 0"
   ]
  },
  {
   "cell_type": "code",
   "execution_count": 336,
   "id": "fdcc852c",
   "metadata": {},
   "outputs": [
    {
     "data": {
      "text/plain": [
       "array([-24.8,  18.2,  -8. ,  -3.4,  18. ])"
      ]
     },
     "execution_count": 336,
     "metadata": {},
     "output_type": "execute_result"
    }
   ],
   "source": [
    "np.linalg.solve(M,p)"
   ]
  },
  {
   "cell_type": "markdown",
   "id": "b515475e",
   "metadata": {},
   "source": [
    "## Team rankings:\n",
    "1. Team 2 (18.2)\n",
    "2. Team 5 (18.0)\n",
    "3. Team 4 (-3.4)\n",
    "4. Team 3 (-8.0)\n",
    "5. Team 1 (-24.8)"
   ]
  },
  {
   "cell_type": "markdown",
   "id": "21538c9b",
   "metadata": {},
   "source": [
    "# Question 3\n",
    "A Lehmer matrix is one whose entries are specified by the following rule\n",
    "\n",
    "Ai,j = i/j if j > i and Ai,j = j/i otherwise\n",
    "\n",
    "Write a function named lehmer_entry which takes two arguments and outputs the value of the entry. Then use “for loop(s)” to generate a 20 by 20 Lehmer Matrix.\n",
    "\n",
    "(Hint: First generate a 4 by 4 matrix with all the elements being 0. Then use for loop(s) and if statement to define the Lehmer matrix. Find the 4 by 4 Lehmer matrix and use the Wikipedia to check. Then you can change the code to run a 20 by 20)\n",
    "\n",
    "Is A symmetric?"
   ]
  },
  {
   "cell_type": "code",
   "execution_count": 338,
   "id": "42565e72",
   "metadata": {},
   "outputs": [
    {
     "data": {
      "text/plain": [
       "array([[1.        , 0.5       , 0.33333333, 0.25      , 0.2       ,\n",
       "        0.16666667, 0.14285714, 0.125     , 0.11111111, 0.1       ,\n",
       "        0.09090909, 0.08333333, 0.07692308, 0.07142857, 0.06666667,\n",
       "        0.0625    , 0.05882353, 0.05555556, 0.05263158, 0.05      ],\n",
       "       [0.5       , 1.        , 0.66666667, 0.5       , 0.4       ,\n",
       "        0.33333333, 0.28571429, 0.25      , 0.22222222, 0.2       ,\n",
       "        0.18181818, 0.16666667, 0.15384615, 0.14285714, 0.13333333,\n",
       "        0.125     , 0.11764706, 0.11111111, 0.10526316, 0.1       ],\n",
       "       [0.33333333, 0.66666667, 1.        , 0.75      , 0.6       ,\n",
       "        0.5       , 0.42857143, 0.375     , 0.33333333, 0.3       ,\n",
       "        0.27272727, 0.25      , 0.23076923, 0.21428571, 0.2       ,\n",
       "        0.1875    , 0.17647059, 0.16666667, 0.15789474, 0.15      ],\n",
       "       [0.25      , 0.5       , 0.75      , 1.        , 0.8       ,\n",
       "        0.66666667, 0.57142857, 0.5       , 0.44444444, 0.4       ,\n",
       "        0.36363636, 0.33333333, 0.30769231, 0.28571429, 0.26666667,\n",
       "        0.25      , 0.23529412, 0.22222222, 0.21052632, 0.2       ],\n",
       "       [0.2       , 0.4       , 0.6       , 0.8       , 1.        ,\n",
       "        0.83333333, 0.71428571, 0.625     , 0.55555556, 0.5       ,\n",
       "        0.45454545, 0.41666667, 0.38461538, 0.35714286, 0.33333333,\n",
       "        0.3125    , 0.29411765, 0.27777778, 0.26315789, 0.25      ],\n",
       "       [0.16666667, 0.33333333, 0.5       , 0.66666667, 0.83333333,\n",
       "        1.        , 0.85714286, 0.75      , 0.66666667, 0.6       ,\n",
       "        0.54545455, 0.5       , 0.46153846, 0.42857143, 0.4       ,\n",
       "        0.375     , 0.35294118, 0.33333333, 0.31578947, 0.3       ],\n",
       "       [0.14285714, 0.28571429, 0.42857143, 0.57142857, 0.71428571,\n",
       "        0.85714286, 1.        , 0.875     , 0.77777778, 0.7       ,\n",
       "        0.63636364, 0.58333333, 0.53846154, 0.5       , 0.46666667,\n",
       "        0.4375    , 0.41176471, 0.38888889, 0.36842105, 0.35      ],\n",
       "       [0.125     , 0.25      , 0.375     , 0.5       , 0.625     ,\n",
       "        0.75      , 0.875     , 1.        , 0.88888889, 0.8       ,\n",
       "        0.72727273, 0.66666667, 0.61538462, 0.57142857, 0.53333333,\n",
       "        0.5       , 0.47058824, 0.44444444, 0.42105263, 0.4       ],\n",
       "       [0.11111111, 0.22222222, 0.33333333, 0.44444444, 0.55555556,\n",
       "        0.66666667, 0.77777778, 0.88888889, 1.        , 0.9       ,\n",
       "        0.81818182, 0.75      , 0.69230769, 0.64285714, 0.6       ,\n",
       "        0.5625    , 0.52941176, 0.5       , 0.47368421, 0.45      ],\n",
       "       [0.1       , 0.2       , 0.3       , 0.4       , 0.5       ,\n",
       "        0.6       , 0.7       , 0.8       , 0.9       , 1.        ,\n",
       "        0.90909091, 0.83333333, 0.76923077, 0.71428571, 0.66666667,\n",
       "        0.625     , 0.58823529, 0.55555556, 0.52631579, 0.5       ],\n",
       "       [0.09090909, 0.18181818, 0.27272727, 0.36363636, 0.45454545,\n",
       "        0.54545455, 0.63636364, 0.72727273, 0.81818182, 0.90909091,\n",
       "        1.        , 0.91666667, 0.84615385, 0.78571429, 0.73333333,\n",
       "        0.6875    , 0.64705882, 0.61111111, 0.57894737, 0.55      ],\n",
       "       [0.08333333, 0.16666667, 0.25      , 0.33333333, 0.41666667,\n",
       "        0.5       , 0.58333333, 0.66666667, 0.75      , 0.83333333,\n",
       "        0.91666667, 1.        , 0.92307692, 0.85714286, 0.8       ,\n",
       "        0.75      , 0.70588235, 0.66666667, 0.63157895, 0.6       ],\n",
       "       [0.07692308, 0.15384615, 0.23076923, 0.30769231, 0.38461538,\n",
       "        0.46153846, 0.53846154, 0.61538462, 0.69230769, 0.76923077,\n",
       "        0.84615385, 0.92307692, 1.        , 0.92857143, 0.86666667,\n",
       "        0.8125    , 0.76470588, 0.72222222, 0.68421053, 0.65      ],\n",
       "       [0.07142857, 0.14285714, 0.21428571, 0.28571429, 0.35714286,\n",
       "        0.42857143, 0.5       , 0.57142857, 0.64285714, 0.71428571,\n",
       "        0.78571429, 0.85714286, 0.92857143, 1.        , 0.93333333,\n",
       "        0.875     , 0.82352941, 0.77777778, 0.73684211, 0.7       ],\n",
       "       [0.06666667, 0.13333333, 0.2       , 0.26666667, 0.33333333,\n",
       "        0.4       , 0.46666667, 0.53333333, 0.6       , 0.66666667,\n",
       "        0.73333333, 0.8       , 0.86666667, 0.93333333, 1.        ,\n",
       "        0.9375    , 0.88235294, 0.83333333, 0.78947368, 0.75      ],\n",
       "       [0.0625    , 0.125     , 0.1875    , 0.25      , 0.3125    ,\n",
       "        0.375     , 0.4375    , 0.5       , 0.5625    , 0.625     ,\n",
       "        0.6875    , 0.75      , 0.8125    , 0.875     , 0.9375    ,\n",
       "        1.        , 0.94117647, 0.88888889, 0.84210526, 0.8       ],\n",
       "       [0.05882353, 0.11764706, 0.17647059, 0.23529412, 0.29411765,\n",
       "        0.35294118, 0.41176471, 0.47058824, 0.52941176, 0.58823529,\n",
       "        0.64705882, 0.70588235, 0.76470588, 0.82352941, 0.88235294,\n",
       "        0.94117647, 1.        , 0.94444444, 0.89473684, 0.85      ],\n",
       "       [0.05555556, 0.11111111, 0.16666667, 0.22222222, 0.27777778,\n",
       "        0.33333333, 0.38888889, 0.44444444, 0.5       , 0.55555556,\n",
       "        0.61111111, 0.66666667, 0.72222222, 0.77777778, 0.83333333,\n",
       "        0.88888889, 0.94444444, 1.        , 0.94736842, 0.9       ],\n",
       "       [0.05263158, 0.10526316, 0.15789474, 0.21052632, 0.26315789,\n",
       "        0.31578947, 0.36842105, 0.42105263, 0.47368421, 0.52631579,\n",
       "        0.57894737, 0.63157895, 0.68421053, 0.73684211, 0.78947368,\n",
       "        0.84210526, 0.89473684, 0.94736842, 1.        , 0.95      ],\n",
       "       [0.05      , 0.1       , 0.15      , 0.2       , 0.25      ,\n",
       "        0.3       , 0.35      , 0.4       , 0.45      , 0.5       ,\n",
       "        0.55      , 0.6       , 0.65      , 0.7       , 0.75      ,\n",
       "        0.8       , 0.85      , 0.9       , 0.95      , 1.        ]])"
      ]
     },
     "execution_count": 338,
     "metadata": {},
     "output_type": "execute_result"
    }
   ],
   "source": [
    "def lehmer_entry(x,y):\n",
    "    A = np.zeros((20,20))\n",
    "    for a in range(20):\n",
    "        for b in range(20):\n",
    "            if a > b:\n",
    "                A[a,b] = (b+1)/(a+1)\n",
    "            else:\n",
    "                A[a,b] = (a+1)/(b+1)\n",
    "    return(A)\n",
    "\n",
    "A = lehmer_entry(4,4)\n",
    "A"
   ]
  },
  {
   "cell_type": "markdown",
   "id": "88a363ae",
   "metadata": {},
   "source": [
    "Yes, A is symmetric."
   ]
  },
  {
   "cell_type": "markdown",
   "id": "462d6fa7",
   "metadata": {},
   "source": [
    "# Question 4\n",
    "\n",
    "Going back to the Lehmer matrix problem.\n",
    " \n",
    "\n",
    "Calculate the inverse of A and assign it to C.\n",
    "\n",
    "Assign [1 2 3 4 5 6 7 8 9 10 10 9 8 7 6 5 4 3 2 1] to d.\n",
    "\n",
    "Solve for x in the equation Ax = Cd\n",
    "\n",
    "What is $x_{10}$ ? Round to 1 decimal place.  Be careful if the answer you get is in scientific notation."
   ]
  },
  {
   "cell_type": "code",
   "execution_count": 339,
   "id": "57930809",
   "metadata": {},
   "outputs": [],
   "source": [
    "# inverse of A\n",
    "C = np.linalg.inv(A)"
   ]
  },
  {
   "cell_type": "code",
   "execution_count": 193,
   "id": "331bb8bf",
   "metadata": {},
   "outputs": [],
   "source": [
    "d = ([1,2,3,4,5,6,7,8,9,10,10,9,8,7,6,5,4,3,2,1])"
   ]
  },
  {
   "cell_type": "code",
   "execution_count": 340,
   "id": "9ee53d5f",
   "metadata": {},
   "outputs": [],
   "source": [
    "# multiplcation of C*d (done d*c due to matrix rules)\n",
    "e = np.matmul(d,C)"
   ]
  },
  {
   "cell_type": "code",
   "execution_count": 341,
   "id": "3f5c4a85",
   "metadata": {},
   "outputs": [
    {
     "data": {
      "text/plain": [
       "array([-1.77635684e-15, -1.06581410e-15,  8.45038325e-15, -1.93989445e-14,\n",
       "        1.76738534e-14, -5.40360297e-15,  6.00363064e-14, -2.65269288e-14,\n",
       "       -2.48120301e+01,  2.00642393e+01,  3.58137507e+01, -3.00626280e+01,\n",
       "       -3.73699570e-04, -2.77204399e-04, -2.09968770e-04, -1.61954093e-04,\n",
       "       -1.26922826e-04, -1.00877938e-04,  9.50593309e+01, -1.00062903e+02])"
      ]
     },
     "execution_count": 341,
     "metadata": {},
     "output_type": "execute_result"
    }
   ],
   "source": [
    "np.linalg.solve(A,e)"
   ]
  },
  {
   "cell_type": "code",
   "execution_count": 342,
   "id": "41afd66e",
   "metadata": {},
   "outputs": [
    {
     "data": {
      "text/plain": [
       "20.0642393"
      ]
     },
     "execution_count": 342,
     "metadata": {},
     "output_type": "execute_result"
    }
   ],
   "source": [
    "# Converting the answer to non-scientific notation\n",
    "2.00642393e+01"
   ]
  },
  {
   "cell_type": "markdown",
   "id": "b99296da",
   "metadata": {},
   "source": [
    "For $Ax = Cd$, x = 20.1 when rounded to 1 decimal place."
   ]
  },
  {
   "cell_type": "code",
   "execution_count": null,
   "id": "df905e4e",
   "metadata": {},
   "outputs": [],
   "source": []
  }
 ],
 "metadata": {
  "kernelspec": {
   "display_name": "Python 3",
   "language": "python",
   "name": "python3"
  },
  "language_info": {
   "codemirror_mode": {
    "name": "ipython",
    "version": 3
   },
   "file_extension": ".py",
   "mimetype": "text/x-python",
   "name": "python",
   "nbconvert_exporter": "python",
   "pygments_lexer": "ipython3",
   "version": "3.8.8"
  }
 },
 "nbformat": 4,
 "nbformat_minor": 5
}
