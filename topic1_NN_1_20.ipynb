{
  "cells": [
    {
      "cell_type": "markdown",
      "metadata": {
        "id": "view-in-github",
        "colab_type": "text"
      },
      "source": [
        "<a href=\"https://colab.research.google.com/github/allie-touchstone/Optimization/blob/main/topic1_NN_1_20.ipynb\" target=\"_parent\"><img src=\"https://colab.research.google.com/assets/colab-badge.svg\" alt=\"Open In Colab\"/></a>"
      ]
    },
    {
      "cell_type": "code",
      "execution_count": 1,
      "metadata": {
        "id": "WJ0oSikkCagm"
      },
      "outputs": [],
      "source": [
        "import tensorflow as tf #tf likes np arrays as input\n",
        "import numpy as np\n",
        "import matplotlib.pyplot as plt"
      ]
    },
    {
      "cell_type": "code",
      "execution_count": 13,
      "metadata": {
        "id": "cC90Zc1JCag0"
      },
      "outputs": [],
      "source": [
        "# importing data \n",
        "mnist = tf.keras.datasets.mnist #object\n",
        "\n",
        "(x_train, y_train),(x_test, y_test) = mnist.load_data() #load data loads the data from the tf servers\n",
        "x_train, x_test = x_train / 255.0, x_test / 255.0 #divide so nunmbers go between 0 and 1\n",
        "\n",
        "ndata_train = x_train.shape[0]\n",
        "ndata_test = x_test.shape[0] #number of images, number of columns, number of rows, number of color channels(intensitiy)\n"
      ]
    },
    {
      "cell_type": "code",
      "source": [
        "x_train.shape #(images, pixel x pixel size,, color channels)"
      ],
      "metadata": {
        "colab": {
          "base_uri": "https://localhost:8080/"
        },
        "id": "WxbH5aAuY1gq",
        "outputId": "9b1f6429-2fcf-43a3-dff9-111910bded44"
      },
      "execution_count": 14,
      "outputs": [
        {
          "output_type": "execute_result",
          "data": {
            "text/plain": [
              "(60000, 28, 28)"
            ]
          },
          "metadata": {},
          "execution_count": 14
        }
      ]
    },
    {
      "cell_type": "code",
      "source": [
        "plt.imshow(x_train[10,:,:],cmap = 'gray'); #plot images, gray scale"
      ],
      "metadata": {
        "colab": {
          "base_uri": "https://localhost:8080/",
          "height": 265
        },
        "id": "PPU4O84kY1jB",
        "outputId": "c2cf6f8d-445d-4ad1-881f-82c617228bda"
      },
      "execution_count": 17,
      "outputs": [
        {
          "output_type": "display_data",
          "data": {
            "image/png": "[encoded data removed]",
            "text/plain": [
              "<Figure size 432x288 with 1 Axes>"
            ]
          },
          "metadata": {
            "needs_background": "light"
          }
        }
      ]
    },
    {
      "cell_type": "code",
      "execution_count": 20,
      "metadata": {
        "id": "WLk18_VGCag4"
      },
      "outputs": [],
      "source": [
        "x_train = x_train.reshape((ndata_train,28,28,1)) #b/w is 1 color channel/ grayscale intesnity \n",
        "x_test = x_test.reshape((ndata_test,28,28,1))\n",
        "\n",
        "\n",
        "xshape = x_train.shape[1:4] #save each image as 28x28x1"
      ]
    },
    {
      "cell_type": "code",
      "source": [
        "x_train.shape"
      ],
      "metadata": {
        "colab": {
          "base_uri": "https://localhost:8080/"
        },
        "id": "-W91TQxhVFXs",
        "outputId": "9173fad4-09ba-4e14-dac6-05ecae832cfa"
      },
      "execution_count": 22,
      "outputs": [
        {
          "output_type": "execute_result",
          "data": {
            "text/plain": [
              "(60000, 28, 28, 1)"
            ]
          },
          "metadata": {},
          "execution_count": 22
        }
      ]
    },
    {
      "cell_type": "code",
      "source": [
        "xshape"
      ],
      "metadata": {
        "colab": {
          "base_uri": "https://localhost:8080/"
        },
        "id": "sZhhtk67ZOeh",
        "outputId": "d64dfb1a-ac30-490e-f2bf-d7a88dd43b0e"
      },
      "execution_count": 23,
      "outputs": [
        {
          "output_type": "execute_result",
          "data": {
            "text/plain": [
              "(28, 28, 1)"
            ]
          },
          "metadata": {},
          "execution_count": 23
        }
      ]
    },
    {
      "cell_type": "code",
      "source": [
        ""
      ],
      "metadata": {
        "id": "S1JHz1FiXh66"
      },
      "execution_count": 23,
      "outputs": []
    },
    {
      "cell_type": "code",
      "execution_count": 25,
      "metadata": {
        "id": "lmqZqqbMCag8"
      },
      "outputs": [],
      "source": [
        "# creating the NN\n",
        "NNmodel = tf.keras.models.Sequential([\n",
        "        tf.keras.layers.Flatten(input_shape=xshape),\n",
        "        tf.keras.layers.Dense(64,activation=tf.nn.relu,kernel_regularizer = tf.keras.regularizers.l1(0.0002)),\n",
        "        tf.keras.layers.Dropout(0.1),\n",
        "        tf.keras.layers.Dense(64,activation=tf.nn.sigmoid),\n",
        "        tf.keras.layers.Dense(10,activation=tf.nn.softmax)\n",
        "        ])\n",
        "\n",
        "# NNmodel is where we save the NN, models inside keras inside tf\n",
        "# want to make a sequential model so we can tell it which layer is which \n",
        "# seqential takes a list, which is the list of layers of the NN\n",
        "# have 5 layers here, inside of a list\n",
        "\n",
        "# first layer is ALWAYS input layer, \n",
        "  # have to tell it input_shape = \n",
        "  # flatten layer is converting the square to a single column\n",
        "  # column will have 784 nodes in this one (28X28X1)\n",
        "\n",
        "# 2nd layer\n",
        "  # dense layer (fully connected, multi-persction)\n",
        "  # this first hidden layer has 64 nodes\n",
        "  # tell it which activiation function to use\n",
        "  # regularizer (like lasso or ridges penltly function for just the weights and biases associated with this layer)\n",
        "    # l1 is lasso   l2 is ridge\n",
        "  #64 is the 'black magic' of NN\n",
        "  # lamda is 0.0002\n",
        "\n",
        "#  drop out layer will set it for each step of SGD, each layer gets its own \n",
        "  #set nodes on NN=0, will force nodes on layer before it to be equal to zero\n",
        "  # 10%, so about 6 of the nodes will be zero at each individual training set\n",
        "\n",
        "#4th layer\n",
        "  # 64 nodes\n",
        "  #sidmog activiation\n",
        "\n",
        "# 5th layer\n",
        "  #Output layer, needs to math number of things doing classification on \n",
        "  # in this case 10, number will be between 0-9\n",
        "  # use softmax activation, because softmax makes probabilites \n"
      ]
    },
    {
      "cell_type": "code",
      "execution_count": 29,
      "metadata": {
        "colab": {
          "base_uri": "https://localhost:8080/"
        },
        "id": "WpONfujBCag_",
        "outputId": "26a42edf-f08f-44be-f3ee-eb33659e81f7"
      },
      "outputs": [
        {
          "output_type": "stream",
          "name": "stdout",
          "text": [
            "Model: \"sequential\"\n",
            "_________________________________________________________________\n",
            " Layer (type)                Output Shape              Param #   \n",
            "=================================================================\n",
            " flatten (Flatten)           (None, 784)               0         \n",
            "                                                                 \n",
            " dense (Dense)               (None, 64)                50240     \n",
            "                                                                 \n",
            " dropout (Dropout)           (None, 64)                0         \n",
            "                                                                 \n",
            " dense_1 (Dense)             (None, 64)                4160      \n",
            "                                                                 \n",
            " dense_2 (Dense)             (None, 10)                650       \n",
            "                                                                 \n",
            "=================================================================\n",
            "Total params: 55,050\n",
            "Trainable params: 55,050\n",
            "Non-trainable params: 0\n",
            "_________________________________________________________________\n"
          ]
        }
      ],
      "source": [
        "# compile the model \n",
        "NNmodel.compile(optimizer='adam', # which optimizer you want to use\n",
        "              loss='sparse_categorical_crossentropy', # loss function, what are you trying to miniimize, sparse means we dont have to do one-hot-endcoding ourselves \n",
        "              metrics=['accuracy']) #things tf will keep track of and tell us what they are, dont do optimiztion on it, just tell me what it is  \n",
        "\n",
        "NNmodel.summary()\n",
        "\n",
        "#first layer was a flatten layer wiht 784 nodes, dont need to pay attention to the 'none'\n",
        "# then we has a dense layer with 64 nodes, then a dropout layer with 64 nodes\n",
        "# another dense layer with 64 nodes\n",
        "# a dense layer with 10 notes\n",
        "\n",
        "#parameters are the weights +  biases\n"
      ]
    },
    {
      "cell_type": "code",
      "source": [
        "784*64 + 64 #(nodes)(weights)+(biases)\n"
      ],
      "metadata": {
        "colab": {
          "base_uri": "https://localhost:8080/"
        },
        "id": "mpAJlxTifIR1",
        "outputId": "b75b6b80-b7f3-48bf-adcb-d2182c19405e"
      },
      "execution_count": 28,
      "outputs": [
        {
          "output_type": "execute_result",
          "data": {
            "text/plain": [
              "50240"
            ]
          },
          "metadata": {},
          "execution_count": 28
        }
      ]
    },
    {
      "cell_type": "code",
      "execution_count": 30,
      "metadata": {
        "colab": {
          "base_uri": "https://localhost:8080/"
        },
        "id": "_zEmMpqvCahB",
        "outputId": "05c90ae3-8811-4df4-bc15-e944763a2c00"
      },
      "outputs": [
        {
          "output_type": "stream",
          "name": "stdout",
          "text": [
            "Epoch 1/12\n",
            "240/240 [==============================] - 2s 6ms/step - loss: 1.1901 - accuracy: 0.7662 - val_loss: 0.5887 - val_accuracy: 0.9050\n",
            "Epoch 2/12\n",
            "240/240 [==============================] - 1s 5ms/step - loss: 0.5463 - accuracy: 0.9018 - val_loss: 0.4390 - val_accuracy: 0.9262\n",
            "Epoch 3/12\n",
            "240/240 [==============================] - 1s 5ms/step - loss: 0.4385 - accuracy: 0.9203 - val_loss: 0.3713 - val_accuracy: 0.9366\n",
            "Epoch 4/12\n",
            "240/240 [==============================] - 1s 5ms/step - loss: 0.3783 - accuracy: 0.9309 - val_loss: 0.3259 - val_accuracy: 0.9443\n",
            "Epoch 5/12\n",
            "240/240 [==============================] - 1s 5ms/step - loss: 0.3420 - accuracy: 0.9385 - val_loss: 0.2990 - val_accuracy: 0.9512\n",
            "Epoch 6/12\n",
            "240/240 [==============================] - 1s 5ms/step - loss: 0.3127 - accuracy: 0.9445 - val_loss: 0.2734 - val_accuracy: 0.9557\n",
            "Epoch 7/12\n",
            "240/240 [==============================] - 1s 5ms/step - loss: 0.2897 - accuracy: 0.9491 - val_loss: 0.2573 - val_accuracy: 0.9567\n",
            "Epoch 8/12\n",
            "240/240 [==============================] - 1s 5ms/step - loss: 0.2747 - accuracy: 0.9515 - val_loss: 0.2465 - val_accuracy: 0.9587\n",
            "Epoch 9/12\n",
            "240/240 [==============================] - 1s 5ms/step - loss: 0.2596 - accuracy: 0.9556 - val_loss: 0.2386 - val_accuracy: 0.9608\n",
            "Epoch 10/12\n",
            "240/240 [==============================] - 1s 5ms/step - loss: 0.2483 - accuracy: 0.9591 - val_loss: 0.2214 - val_accuracy: 0.9647\n",
            "Epoch 11/12\n",
            "240/240 [==============================] - 1s 5ms/step - loss: 0.2392 - accuracy: 0.9601 - val_loss: 0.2115 - val_accuracy: 0.9670\n",
            "Epoch 12/12\n",
            "240/240 [==============================] - 1s 4ms/step - loss: 0.2307 - accuracy: 0.9610 - val_loss: 0.2110 - val_accuracy: 0.9672\n"
          ]
        },
        {
          "output_type": "execute_result",
          "data": {
            "text/plain": [
              "<keras.callbacks.History at 0x7fda3469a550>"
            ]
          },
          "metadata": {},
          "execution_count": 30
        }
      ],
      "source": [
        "# fit the training data, epoches, batch size, validation split (gonna hold off 20% of the data, so train on 80% of data)\n",
        "NNmodel.fit(x_train,y_train,epochs=12,validation_split=0.2,batch_size=200)\n",
        "#epoches: accuracly might level out or start to get worse\n",
        "#accuracy is on the training set, val_accuracy on valadation set"
      ]
    },
    {
      "cell_type": "code",
      "execution_count": 31,
      "metadata": {
        "colab": {
          "base_uri": "https://localhost:8080/"
        },
        "id": "ucsh4BMTCahD",
        "outputId": "fdbbd1c7-0bfc-4ef3-a0c1-9b25dc2b203c"
      },
      "outputs": [
        {
          "output_type": "stream",
          "name": "stdout",
          "text": [
            "313/313 [==============================] - 1s 2ms/step - loss: 0.2076 - accuracy: 0.9679\n",
            "This model predicts 96.78999781608582% of the test data correctly\n"
          ]
        }
      ],
      "source": [
        "print('This model predicts '+str(NNmodel.evaluate(x_test,y_test)[1]*100) +'% of the test data correctly')\n",
        "# how we did on the test data"
      ]
    },
    {
      "cell_type": "code",
      "execution_count": 32,
      "metadata": {
        "colab": {
          "base_uri": "https://localhost:8080/"
        },
        "id": "aRrLgOxXCahG",
        "outputId": "c61091ee-c2e4-4f58-ba3f-fef439679a2b"
      },
      "outputs": [
        {
          "output_type": "execute_result",
          "data": {
            "text/plain": [
              "(10000, 10)"
            ]
          },
          "metadata": {},
          "execution_count": 32
        }
      ],
      "source": [
        "# probability of each category \n",
        "pred_probs = NNmodel.predict(x_test)\n",
        "pred_probs.shape\n",
        "# 10000 images, each one we got 10 probabibilites, each one sums to one and takes the highest"
      ]
    },
    {
      "cell_type": "code",
      "execution_count": 39,
      "metadata": {
        "colab": {
          "base_uri": "https://localhost:8080/"
        },
        "id": "dcRSIEUcCahR",
        "outputId": "67238714-e02d-47e8-89d1-0c52c20aa7c2"
      },
      "outputs": [
        {
          "output_type": "execute_result",
          "data": {
            "text/plain": [
              "1.0"
            ]
          },
          "metadata": {},
          "execution_count": 39
        }
      ],
      "source": [
        "np.sum(pred_probs[0,:])"
      ]
    },
    {
      "cell_type": "code",
      "source": [
        "pred_probs[2500,:]\n",
        "#prediction for each value"
      ],
      "metadata": {
        "colab": {
          "base_uri": "https://localhost:8080/"
        },
        "id": "Vh-RdxSUhFrr",
        "outputId": "6c7d4992-b570-4c62-bed1-1a5ed675196c"
      },
      "execution_count": 42,
      "outputs": [
        {
          "output_type": "execute_result",
          "data": {
            "text/plain": [
              "array([2.7023059e-05, 9.2232591e-03, 9.7265166e-01, 1.0268380e-02,\n",
              "       1.1221665e-05, 9.7641096e-05, 2.6476302e-04, 5.5281874e-03,\n",
              "       1.9107519e-03, 1.7097833e-05], dtype=float32)"
            ]
          },
          "metadata": {},
          "execution_count": 42
        }
      ]
    },
    {
      "cell_type": "code",
      "execution_count": 40,
      "metadata": {
        "colab": {
          "base_uri": "https://localhost:8080/"
        },
        "id": "jSiGyR9QEpjR",
        "outputId": "e8712bf2-abf5-4214-c08e-46051525a94c"
      },
      "outputs": [
        {
          "output_type": "execute_result",
          "data": {
            "text/plain": [
              "0.9679"
            ]
          },
          "metadata": {},
          "execution_count": 40
        }
      ],
      "source": [
        "pred_class = np.argmax(pred_probs, axis=1)\n",
        "#argmax finds the index of the biggest value\n",
        "#axis = 1, find the index of each column with the biggest class\n",
        "\n",
        "np.mean(pred_class==y_test)\n",
        "#how often are these right?"
      ]
    },
    {
      "cell_type": "code",
      "execution_count": 35,
      "metadata": {
        "id": "rdfpHS5QCahV"
      },
      "outputs": [],
      "source": [
        "NNmodel2 = tf.keras.models.Sequential([\n",
        "        tf.keras.layers.Conv2D(filters=10,kernel_size=(5,5),activation=tf.nn.relu,input_shape=xshape),\n",
        "        tf.keras.layers.MaxPooling2D(pool_size = (2,2),strides=2),\n",
        "        tf.keras.layers.Flatten(),\n",
        "        tf.keras.layers.Dense(128,activation=tf.nn.relu,kernel_regularizer = tf.keras.regularizers.l1(0.0002)),\n",
        "        tf.keras.layers.Dense(64,activation=tf.nn.softplus,kernel_regularizer = tf.keras.regularizers.l1(0.0005)),\n",
        "        tf.keras.layers.Dense(10,activation=tf.nn.softmax)\n",
        "        ])"
      ]
    },
    {
      "cell_type": "code",
      "execution_count": 36,
      "metadata": {
        "id": "XqrzQ9mIUKrv"
      },
      "outputs": [],
      "source": [
        "NNmodel2 = tf.keras.models.Sequential()\n",
        "NNmodel2.add(tf.keras.layers.Conv2D(filters=10,kernel_size=(5,5),activation=tf.nn.relu,input_shape=xshape))\n",
        "NNmodel2.add(tf.keras.layers.MaxPooling2D(pool_size = (2,2),strides=2))\n",
        "NNmodel2.add(tf.keras.layers.Flatten())\n",
        "NNmodel2.add(tf.keras.layers.Dense(128,activation=tf.nn.relu,kernel_regularizer = tf.keras.regularizers.l1(0.0002)))\n",
        "NNmodel2.add(tf.keras.layers.Dense(64,activation=tf.nn.softplus,kernel_regularizer = tf.keras.regularizers.l1(0.0005)))\n",
        "NNmodel2.add(tf.keras.layers.Dense(10,activation=tf.nn.softmax))"
      ]
    },
    {
      "cell_type": "code",
      "execution_count": 37,
      "metadata": {
        "colab": {
          "base_uri": "https://localhost:8080/"
        },
        "id": "caahsRsCCahX",
        "outputId": "550324ab-c4bb-4fe5-b14b-dbcf6789069e"
      },
      "outputs": [
        {
          "output_type": "stream",
          "name": "stdout",
          "text": [
            "Model: \"sequential_2\"\n",
            "_________________________________________________________________\n",
            " Layer (type)                Output Shape              Param #   \n",
            "=================================================================\n",
            " conv2d_1 (Conv2D)           (None, 24, 24, 10)        260       \n",
            "                                                                 \n",
            " max_pooling2d_1 (MaxPooling  (None, 12, 12, 10)       0         \n",
            " 2D)                                                             \n",
            "                                                                 \n",
            " flatten_2 (Flatten)         (None, 1440)              0         \n",
            "                                                                 \n",
            " dense_6 (Dense)             (None, 128)               184448    \n",
            "                                                                 \n",
            " dense_7 (Dense)             (None, 64)                8256      \n",
            "                                                                 \n",
            " dense_8 (Dense)             (None, 10)                650       \n",
            "                                                                 \n",
            "=================================================================\n",
            "Total params: 193,614\n",
            "Trainable params: 193,614\n",
            "Non-trainable params: 0\n",
            "_________________________________________________________________\n"
          ]
        }
      ],
      "source": [
        "NNmodel2.compile(optimizer='adam',\n",
        "              loss='sparse_categorical_crossentropy',\n",
        "              metrics=['accuracy'])\n",
        "\n",
        "NNmodel2.summary()"
      ]
    },
    {
      "cell_type": "code",
      "execution_count": 38,
      "metadata": {
        "colab": {
          "base_uri": "https://localhost:8080/"
        },
        "id": "eVhxwOPGCahZ",
        "outputId": "2b9ad1ec-6d16-4646-b478-273571407d17"
      },
      "outputs": [
        {
          "output_type": "stream",
          "name": "stdout",
          "text": [
            "Epoch 1/5\n",
            "96/96 [==============================] - 14s 142ms/step - loss: 1.6513 - accuracy: 0.8295 - val_loss: 0.9874 - val_accuracy: 0.9296\n",
            "Epoch 2/5\n",
            "96/96 [==============================] - 13s 139ms/step - loss: 0.8507 - accuracy: 0.9321 - val_loss: 0.7181 - val_accuracy: 0.9482\n",
            "Epoch 3/5\n",
            "96/96 [==============================] - 13s 139ms/step - loss: 0.6545 - accuracy: 0.9503 - val_loss: 0.5860 - val_accuracy: 0.9597\n",
            "Epoch 4/5\n",
            "96/96 [==============================] - 13s 139ms/step - loss: 0.5517 - accuracy: 0.9578 - val_loss: 0.5111 - val_accuracy: 0.9637\n",
            "Epoch 5/5\n",
            "96/96 [==============================] - 13s 139ms/step - loss: 0.4848 - accuracy: 0.9643 - val_loss: 0.4505 - val_accuracy: 0.9721\n"
          ]
        },
        {
          "output_type": "execute_result",
          "data": {
            "text/plain": [
              "<keras.callbacks.History at 0x7fda388aa650>"
            ]
          },
          "metadata": {},
          "execution_count": 38
        }
      ],
      "source": [
        "NNmodel2.fit(x_train,y_train,epochs=5,validation_split=0.2,batch_size=500)"
      ]
    },
    {
      "cell_type": "code",
      "execution_count": null,
      "metadata": {
        "id": "jHJL_Z56Dfp_"
      },
      "outputs": [],
      "source": [
        "NNmodel2.predict(x_test)"
      ]
    },
    {
      "cell_type": "code",
      "execution_count": null,
      "metadata": {
        "id": "YkdlAs_4CahZ"
      },
      "outputs": [],
      "source": [
        "pred_probs2 = NNmodel2.predict(x_test)\n",
        "pred2 = np.argmax(pred_probs2, axis=1)\n",
        "print(np.mean(pred2==y_test))"
      ]
    },
    {
      "cell_type": "code",
      "execution_count": null,
      "metadata": {
        "id": "4xdrztooCaha"
      },
      "outputs": [],
      "source": [
        ""
      ]
    },
    {
      "cell_type": "markdown",
      "metadata": {
        "id": "ed5h2V2UUKrw"
      },
      "source": [
        "## Functional API\n",
        "we will need this eventually when we do reinforcement learning"
      ]
    },
    {
      "cell_type": "code",
      "execution_count": null,
      "metadata": {
        "id": "EPXHblYvUKrx"
      },
      "outputs": [],
      "source": [
        "from tensorflow.keras.models import Model\n",
        "from tensorflow.keras.layers import Dense, Flatten, Conv2D, Input"
      ]
    },
    {
      "cell_type": "code",
      "execution_count": null,
      "metadata": {
        "id": "_WKajxvMUKrx"
      },
      "outputs": [],
      "source": [
        "imp = Input(shape=xshape)\n",
        "mid = Conv2D(16,(8,8),strides=4,activation='relu')(imp)\n",
        "mid = Conv2D(32,(4,4),strides=2,activation='relu')(mid)\n",
        "mid = Flatten()(mid)\n",
        "mid = Dense(256,activation='relu')(mid)\n",
        "out0 = Dense(10,activation='softmax')(mid)\n",
        "model = Model(imp,out0)\n",
        "model.compile(optimizer='adam',loss='sparse_categorical_crossentropy',metrics=['accuracy'])\n",
        "model.summary()"
      ]
    },
    {
      "cell_type": "code",
      "execution_count": null,
      "metadata": {
        "id": "4iGUMNdFUKrx"
      },
      "outputs": [],
      "source": [
        ""
      ]
    }
  ],
  "metadata": {
    "colab": {
      "collapsed_sections": [],
      "name": "topic1-NN 1.20.ipynb",
      "provenance": [],
      "include_colab_link": true
    },
    "kernelspec": {
      "display_name": "Python 3",
      "language": "python",
      "name": "python3"
    },
    "language_info": {
      "codemirror_mode": {
        "name": "ipython",
        "version": 3
      },
      "file_extension": ".py",
      "mimetype": "text/x-python",
      "name": "python",
      "nbconvert_exporter": "python",
      "pygments_lexer": "ipython3",
      "version": "3.7.4"
    }
  },
  "nbformat": 4,
  "nbformat_minor": 0
}