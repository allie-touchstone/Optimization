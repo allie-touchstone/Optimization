{
  "nbformat": 4,
  "nbformat_minor": 0,
  "metadata": {
    "colab": {
      "name": "Optimization Project.ipynb",
      "provenance": [],
      "collapsed_sections": [],
      "include_colab_link": true
    },
    "kernelspec": {
      "name": "python3",
      "display_name": "Python 3"
    },
    "language_info": {
      "name": "python"
    }
  },
  "cells": [
    {
      "cell_type": "markdown",
      "metadata": {
        "id": "view-in-github",
        "colab_type": "text"
      },
      "source": [
        "<a href=\"https://colab.research.google.com/github/allie-touchstone/Optimization/blob/main/Optimization_Project.ipynb\" target=\"_parent\"><img src=\"https://colab.research.google.com/assets/colab-badge.svg\" alt=\"Open In Colab\"/></a>"
      ]
    },
    {
      "cell_type": "markdown",
      "metadata": {
        "id": "wRP9_Z3bRLs4"
      },
      "source": [
        "# Optimzation Project 1\n",
        "## Group Members: Shehzad Ali, Samuel Oh, Ben Sullivan, and Allie Touchstone "
      ]
    },
    {
      "cell_type": "markdown",
      "metadata": {
        "id": "VYdt54qeRifI"
      },
      "source": [
        "First step is to bring in imports"
      ]
    },
    {
      "cell_type": "code",
      "metadata": {
        "id": "jEtvZ4qlPVdO",
        "colab": {
          "base_uri": "https://localhost:8080/"
        },
        "outputId": "f4f2e03f-ada9-4c3d-887c-3104f16de8f0"
      },
      "source": [
        "%pip install -i https://pypi.gurobi.com gurobipy\n",
        "import numpy as np\n",
        "import gurobipy as gp\n",
        "import pandas as pd\n",
        "import matplotlib.pyplot as plt"
      ],
      "execution_count": null,
      "outputs": [
        {
          "output_type": "stream",
          "name": "stdout",
          "text": [
            "Looking in indexes: https://pypi.gurobi.com\n",
            "Requirement already satisfied: gurobipy in /usr/local/lib/python3.7/dist-packages (9.1.2)\n"
          ]
        }
      ]
    },
    {
      "cell_type": "markdown",
      "metadata": {
        "id": "Ij3qo7qLXGId"
      },
      "source": [
        "The csv files are read in directly below."
      ]
    },
    {
      "cell_type": "code",
      "metadata": {
        "id": "Eqwa3U09XCdS"
      },
      "source": [
        "from google.colab import files\n",
        "uploaded = files.upload()\n",
        "roi = pd.read_csv('ROI_data.csv')\n",
        "df_monthly = pd.read_csv('roi_mat.csv')"
      ],
      "execution_count": null,
      "outputs": []
    },
    {
      "cell_type": "markdown",
      "metadata": {
        "id": "llMZ-sNZWMLM"
      },
      "source": [
        "**1.)** Assume that your company is deciding how to spend a marketing budget of $10M.  You work in the marketing department as a data scientist and the chief marketing officer has asked you write a report recommending how to spread this budget among several marketing mediums.  Your department has employed an outside consulting firm to estimate the return on investment (ROI) of each marketing medium under consideration.  The results are in the table below, and also in a CSV attached to this assignment:\n"
      ]
    },
    {
      "cell_type": "markdown",
      "metadata": {
        "id": "fXAGCg-FWQYK"
      },
      "source": [
        "![image.png](data:image/png;base64,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)"
      ]
    },
    {
      "cell_type": "markdown",
      "metadata": {
        "id": "EILukflEWbEV"
      },
      "source": [
        "On top of these ROIs, your boss has decided to constrain your budget as follows:\n",
        "\n",
        "**a.** The amount invested in print and TV should be no more than the amount spent on Facebook and Email. Surprisingly, email seems to be a great channel for reaching real people. Shown in A[1]\n",
        "\n",
        "**b.** The total amount used in social media (Facebook, LinkedIn, Instagram, Snapchat, and Twitter) should be at least twice of SEO and AdWords. Shown in A[2]\n",
        "\n",
        "**c.** For each platform, the amount invested should be no more than $3M. Shown in A[3:13]\n",
        "\n",
        "Formulate the marketing budget allocation problem as a linear program.  Use gurobi to find the optimal budget allocation."
      ]
    },
    {
      "cell_type": "markdown",
      "metadata": {
        "id": "U81dwZLbg15x"
      },
      "source": [
        "The objective variable is the ROI which is read in through the csv in the code block below.\n"
      ]
    },
    {
      "cell_type": "code",
      "metadata": {
        "id": "_e78jKGCPwjT"
      },
      "source": [
        "names = list(roi.columns)\n",
        "obj = np.array(roi.iloc[0][1:]) # First firm ROIs is our objective measure\n",
        "A = np.zeros((13,10))\n",
        "A[0,] = [1]*10 # Total budget constraint\n",
        "A[1,] = [-1,-1,0,0,1,0,0,0,0,1] #Print/TV and Facebook/Email constraint\n",
        "A[2,] = [0,0,-2,-2,1,1,1,1,1,0] #Social media and AdWords/SEO constraint\n",
        "A[3:13,] = np.diag(np.ones(10)) # Individual platform budget constraint\n",
        "b = np.array([10,0,0,3,3,3,3,3,3,3,3,3,3]) \n",
        "sense = np.array(['<','>','>','<','<','<','<','<','<','<','<','<','<'])"
      ],
      "execution_count": null,
      "outputs": []
    },
    {
      "cell_type": "code",
      "metadata": {
        "id": "Ea15SG16TTuY",
        "colab": {
          "base_uri": "https://localhost:8080/"
        },
        "outputId": "ba5c8906-eb47-43d4-f468-e1ea8ddf29bf"
      },
      "source": [
        "Roi1Mod = gp.Model()\n",
        "Roi1 = Roi1Mod.addMVar((10)) \n",
        "Roi1ModCon = Roi1Mod.addMConstrs(A, Roi1, sense, b) \n",
        "Roi1Mod.setMObjective(None,obj,0,sense=gp.GRB.MAXIMIZE) \n",
        "Roi1Mod.Params.OutputFlag = 0 \n",
        "Roi1Mod.optimize()\n",
        "percent = Roi1Mod.objVal\n",
        "roi1 = Roi1.x.tolist()"
      ],
      "execution_count": null,
      "outputs": [
        {
          "output_type": "stream",
          "name": "stdout",
          "text": [
            "Restricted license - for non-production use only - expires 2022-01-13\n"
          ]
        }
      ]
    },
    {
      "cell_type": "code",
      "metadata": {
        "id": "22nv-TCGTW98",
        "colab": {
          "base_uri": "https://localhost:8080/"
        },
        "outputId": "4e32cf01-ffb2-4f06-e79d-c80e43ca551e"
      },
      "source": [
        "print('The company should spend the following on each type of marketing:')\n",
        "for x in range(0,10):\n",
        "    print('$',roi1[x],'million on', names[x+1])\n",
        "print('This budget allocation has a ROI of',round(percent*10,2) ,'% from the original investment of $10 million.')"
      ],
      "execution_count": null,
      "outputs": [
        {
          "output_type": "stream",
          "name": "stdout",
          "text": [
            "The company should spend the following on each type of marketing:\n",
            "$ 0.0 million on Print\n",
            "$ 3.0 million on TV\n",
            "$ 0.0 million on SEO\n",
            "$ 1.0 million on AdWords\n",
            "$ 0.0 million on Facebook\n",
            "$ 0.0 million on LinkedIn\n",
            "$ 3.0 million on Instagram\n",
            "$ 0.0 million on Snapchat\n",
            "$ 0.0 million on Twitter\n",
            "$ 3.0 million on Email\n",
            "This budget allocation has a ROI of 4.56 % from the original investment of $10 million.\n"
          ]
        }
      ]
    },
    {
      "cell_type": "markdown",
      "metadata": {
        "id": "beQCjKtidLbF"
      },
      "source": [
        "**4.)** Your boss is happy to see the promising results presented by the marketing department. However, your boss is also very concerned because your boss recalls being somewhat disappointed after following such recommendations in the past. To be cautious about the decision, your team has decided to get another opinion about the ROI data and rerun the analysis.  The second consulting firm returns the estimates of the ROI data in the table below (also in the CSV file mentioned above).  You are asked to compare the two optimal allocations from these two ROI estimates.  "
      ]
    },
    {
      "cell_type": "markdown",
      "metadata": {
        "id": "ILMkxlXejRDC"
      },
      "source": [
        "Below are the updated ROI's:"
      ]
    },
    {
      "cell_type": "code",
      "metadata": {
        "id": "APKcrnWuVIb4"
      },
      "source": [
        "obj2 = np.array(roi.iloc[1][1:])\n",
        "Roi2Mod = gp.Model()\n",
        "Roi2 = Roi2Mod.addMVar(len(obj2)) \n",
        "Roi2ModCon = Roi2Mod.addMConstrs(A, Roi2, sense, b) \n",
        "Roi2Mod.setMObjective(None,obj2,0,sense=gp.GRB.MAXIMIZE) \n",
        "Roi2Mod.Params.OutputFlag = 0 \n",
        "Roi2Mod.optimize()\n",
        "percent2 = Roi2Mod.objVal\n",
        "roi2 = Roi2.x.tolist()"
      ],
      "execution_count": null,
      "outputs": []
    },
    {
      "cell_type": "code",
      "metadata": {
        "id": "VKPUFyUSZvBU",
        "colab": {
          "base_uri": "https://localhost:8080/",
          "height": 111
        },
        "outputId": "bb53c55d-c9ea-4b6a-9410-7b8d00d5d4f1"
      },
      "source": [
        "allo_df = pd.DataFrame([Roi1.x, Roi2.x],index=('ROI','Second Firms ROI Estimate'),columns=names[1:])\n",
        "allo_df"
      ],
      "execution_count": null,
      "outputs": [
        {
          "output_type": "execute_result",
          "data": {
            "text/html": [
              "<div>\n",
              "<style scoped>\n",
              "    .dataframe tbody tr th:only-of-type {\n",
              "        vertical-align: middle;\n",
              "    }\n",
              "\n",
              "    .dataframe tbody tr th {\n",
              "        vertical-align: top;\n",
              "    }\n",
              "\n",
              "    .dataframe thead th {\n",
              "        text-align: right;\n",
              "    }\n",
              "</style>\n",
              "<table border=\"1\" class=\"dataframe\">\n",
              "  <thead>\n",
              "    <tr style=\"text-align: right;\">\n",
              "      <th></th>\n",
              "      <th>Print</th>\n",
              "      <th>TV</th>\n",
              "      <th>SEO</th>\n",
              "      <th>AdWords</th>\n",
              "      <th>Facebook</th>\n",
              "      <th>LinkedIn</th>\n",
              "      <th>Instagram</th>\n",
              "      <th>Snapchat</th>\n",
              "      <th>Twitter</th>\n",
              "      <th>Email</th>\n",
              "    </tr>\n",
              "  </thead>\n",
              "  <tbody>\n",
              "    <tr>\n",
              "      <th>ROI</th>\n",
              "      <td>0.0</td>\n",
              "      <td>3.0</td>\n",
              "      <td>0.0</td>\n",
              "      <td>1.0</td>\n",
              "      <td>0.0</td>\n",
              "      <td>0.0</td>\n",
              "      <td>3.0</td>\n",
              "      <td>0.0</td>\n",
              "      <td>0.0</td>\n",
              "      <td>3.0</td>\n",
              "    </tr>\n",
              "    <tr>\n",
              "      <th>Second Firms ROI Estimate</th>\n",
              "      <td>3.0</td>\n",
              "      <td>0.0</td>\n",
              "      <td>0.0</td>\n",
              "      <td>1.0</td>\n",
              "      <td>3.0</td>\n",
              "      <td>3.0</td>\n",
              "      <td>0.0</td>\n",
              "      <td>0.0</td>\n",
              "      <td>0.0</td>\n",
              "      <td>0.0</td>\n",
              "    </tr>\n",
              "  </tbody>\n",
              "</table>\n",
              "</div>"
            ],
            "text/plain": [
              "                           Print   TV  SEO  ...  Snapchat  Twitter  Email\n",
              "ROI                          0.0  3.0  0.0  ...       0.0      0.0    3.0\n",
              "Second Firms ROI Estimate    3.0  0.0  0.0  ...       0.0      0.0    0.0\n",
              "\n",
              "[2 rows x 10 columns]"
            ]
          },
          "metadata": {},
          "execution_count": 7
        }
      ]
    },
    {
      "cell_type": "code",
      "metadata": {
        "id": "HEd2HbUQVLAY",
        "colab": {
          "base_uri": "https://localhost:8080/"
        },
        "outputId": "770e46a1-5e65-4c92-ae01-a354ee607b8d"
      },
      "source": [
        "print('The company should spend the following on each type of marketing:')\n",
        "for x in range(0,10):\n",
        "    print('$',roi2[x],'million on', names[x+1])\n",
        "print('This updated budget allocation has a ROI of',round(percent2*10,2) ,'% from the original investment of $10 million.')"
      ],
      "execution_count": null,
      "outputs": [
        {
          "output_type": "stream",
          "name": "stdout",
          "text": [
            "The company should spend the following on each type of marketing:\n",
            "$ 3.0 million on Print\n",
            "$ 0.0 million on TV\n",
            "$ 0.0 million on SEO\n",
            "$ 1.0 million on AdWords\n",
            "$ 3.0 million on Facebook\n",
            "$ 3.0 million on LinkedIn\n",
            "$ 0.0 million on Instagram\n",
            "$ 0.0 million on Snapchat\n",
            "$ 0.0 million on Twitter\n",
            "$ 0.0 million on Email\n",
            "This updated budget allocation has a ROI of 4.56 % from the original investment of $10 million.\n"
          ]
        }
      ]
    },
    {
      "cell_type": "markdown",
      "metadata": {
        "id": "02GjX7RgeQGi"
      },
      "source": [
        "**5.)**  Are the allocations the same?  Assuming the first ROI data is correct, if you were to use the second allocation (the allocation that assumed the second ROI data was correct) how much lower would the objective be relative to the optimal objective (the one that uses the first ROI data and the first allocation)?  Assuming the second ROI data is correct, if you used the first allocation how much lower would the objective be relative to the optimal objective?  Do you think the third constraint above, based on your boss’ experience, is useful?"
      ]
    },
    {
      "cell_type": "code",
      "metadata": {
        "id": "ME78si6WZmQg",
        "colab": {
          "base_uri": "https://localhost:8080/"
        },
        "outputId": "e0835ce5-38ef-446a-c30d-a3dc2672ad3e"
      },
      "source": [
        "firstAlloSecROI = Roi1Mod.objval - sum((Roi1.x*obj2)) # First distribution and second ROI\n",
        "print(\"The ROI would go down by $\",round(firstAlloSecROI*1000000),\" if we used the budget allocation of the first ROI data, but used the ROI rates provided by the second firm\", sep='')"
      ],
      "execution_count": null,
      "outputs": [
        {
          "output_type": "stream",
          "name": "stdout",
          "text": [
            "The ROI would go down by $192000 if we used the budget allocation of the first ROI data, but used the ROI rates provided by the second firm\n"
          ]
        }
      ]
    },
    {
      "cell_type": "code",
      "metadata": {
        "id": "f2nrHuSGdCK-",
        "colab": {
          "base_uri": "https://localhost:8080/"
        },
        "outputId": "4dfcd6f8-d841-477f-b346-b439b3f90de9"
      },
      "source": [
        "firstRoiSecAllo = Roi2Mod.objval - sum((Roi2.x*obj)) #second distribution and first ROI\n",
        "print(\"The ROI would go down by $\",round(firstRoiSecAllo*1000000),\" if we used the budget allocation of the second ROI data, but used the ROI rates provided by the first firm\", sep='')"
      ],
      "execution_count": null,
      "outputs": [
        {
          "output_type": "stream",
          "name": "stdout",
          "text": [
            "The ROI would go down by $204000 if we used the budget allocation of the second ROI data, but used the ROI rates provided by the first firm\n"
          ]
        }
      ]
    },
    {
      "cell_type": "code",
      "metadata": {
        "id": "c-vJD4aPauP2"
      },
      "source": [
        "obj2 = np.array(roi.iloc[1][1:])\n",
        "Roi2Mod = gp.Model()\n",
        "Roi2 = Roi2Mod.addMVar(len(obj2)) \n",
        "Roi2ModCon = Roi2Mod.addMConstrs(A, Roi2, sense, b) \n",
        "Roi2Mod.setMObjective(None,obj2,0,sense=gp.GRB.MAXIMIZE) \n",
        "Roi2Mod.Params.OutputFlag = 0 \n",
        "Roi2Mod.optimize()\n",
        "percent2 = Roi2Mod.objVal\n",
        "roi2 = Roi2.x.tolist()"
      ],
      "execution_count": null,
      "outputs": []
    },
    {
      "cell_type": "markdown",
      "metadata": {
        "id": "sDwIZ00nXV8J"
      },
      "source": [
        "The following matrix is without considering the third constraint."
      ]
    },
    {
      "cell_type": "code",
      "metadata": {
        "id": "dXSZ9lfQaOeH",
        "colab": {
          "base_uri": "https://localhost:8080/"
        },
        "outputId": "3839a42b-7821-40ef-8ebe-a1892a847573"
      },
      "source": [
        "A2 = np.zeros((3,10))\n",
        "A2[0,] = [1]*10 # Budget constraint\n",
        "A2[1,] = [-1,-1,0,0,1,0,0,0,0,1] \n",
        "A2[2,] = [0,0,-2,-2,1,1,1,1,1,0]\n",
        "b2 = np.array([10,0,0])\n",
        "sense2 = np.array(['<','>','>'])\n",
        "\n",
        "Roi3Mod = gp.Model()\n",
        "Roi3 = Roi3Mod.addMVar(10)\n",
        "Roi3ModCon = Roi3Mod.addMConstrs(A2, Roi3, sense2, b2)\n",
        "Roi3Mod.setMObjective(None,obj,0,sense=gp.GRB.MAXIMIZE)\n",
        "Roi3Mod.Params.OutputFlag = 0\n",
        "Roi3Mod.optimize()\n",
        "print(Roi3Mod.objVal)\n",
        "print(Roi3Mod.x)\n",
        "print(\"The ROI would go up by $\", round((Roi3Mod.objVal-Roi1Mod.objVal)*1000000),\" without 3rd constraint.\", sep='')"
      ],
      "execution_count": null,
      "outputs": [
        {
          "output_type": "stream",
          "name": "stdout",
          "text": [
            "0.465\n",
            "[0.0, 5.0, 0.0, 0.0, 0.0, 0.0, 0.0, 0.0, 0.0, 5.0]\n",
            "The ROI would go up by $9000 without 3rd constraint.\n"
          ]
        }
      ]
    },
    {
      "cell_type": "markdown",
      "metadata": {
        "id": "kZooFiIjOKfK"
      },
      "source": [
        "**6.)** To explore this further perform some analysis of how your optimal allocation would change based on changes in the ROI data.  Use the first ROI data as your starting point.  By how much could each advertising medium’s ROI increase or decrease and still result in the same optimal allocation you found in step (3)?"
      ]
    },
    {
      "cell_type": "code",
      "metadata": {
        "id": "UKpOYvPZOHq9"
      },
      "source": [
        "ObjLowerBound = Roi1.SAObjLow.tolist()\n",
        "ObjUpperBound = Roi1.SAObjUp.tolist()"
      ],
      "execution_count": null,
      "outputs": []
    },
    {
      "cell_type": "code",
      "metadata": {
        "id": "Z8g7Ntlu5IfE",
        "colab": {
          "base_uri": "https://localhost:8080/",
          "height": 111
        },
        "outputId": "3c475f3d-91da-4003-f499-6f1136a2a9cd"
      },
      "source": [
        "sensitivity_df = pd.DataFrame()\n",
        "sensitivity_df[\"Medium\"] = names[1:11]\n",
        "sensitivity_df[\"Lower Bound\"] = ObjLowerBound\n",
        "sensitivity_df[\"Upper Bound\"] = ObjUpperBound\n",
        "sensitivity_df = sensitivity_df.set_index(\"Medium\").T\n",
        "sensitivity_df"
      ],
      "execution_count": null,
      "outputs": [
        {
          "output_type": "execute_result",
          "data": {
            "text/html": [
              "<div>\n",
              "<style scoped>\n",
              "    .dataframe tbody tr th:only-of-type {\n",
              "        vertical-align: middle;\n",
              "    }\n",
              "\n",
              "    .dataframe tbody tr th {\n",
              "        vertical-align: top;\n",
              "    }\n",
              "\n",
              "    .dataframe thead th {\n",
              "        text-align: right;\n",
              "    }\n",
              "</style>\n",
              "<table border=\"1\" class=\"dataframe\">\n",
              "  <thead>\n",
              "    <tr style=\"text-align: right;\">\n",
              "      <th>Medium</th>\n",
              "      <th>Print</th>\n",
              "      <th>TV</th>\n",
              "      <th>SEO</th>\n",
              "      <th>AdWords</th>\n",
              "      <th>Facebook</th>\n",
              "      <th>LinkedIn</th>\n",
              "      <th>Instagram</th>\n",
              "      <th>Snapchat</th>\n",
              "      <th>Twitter</th>\n",
              "      <th>Email</th>\n",
              "    </tr>\n",
              "  </thead>\n",
              "  <tbody>\n",
              "    <tr>\n",
              "      <th>Lower Bound</th>\n",
              "      <td>-inf</td>\n",
              "      <td>0.039</td>\n",
              "      <td>-inf</td>\n",
              "      <td>0.033</td>\n",
              "      <td>-inf</td>\n",
              "      <td>-inf</td>\n",
              "      <td>0.039</td>\n",
              "      <td>-inf</td>\n",
              "      <td>-inf</td>\n",
              "      <td>0.029</td>\n",
              "    </tr>\n",
              "    <tr>\n",
              "      <th>Upper Bound</th>\n",
              "      <td>0.049</td>\n",
              "      <td>0.062</td>\n",
              "      <td>0.039</td>\n",
              "      <td>0.046</td>\n",
              "      <td>0.029</td>\n",
              "      <td>0.039</td>\n",
              "      <td>inf</td>\n",
              "      <td>0.039</td>\n",
              "      <td>0.039</td>\n",
              "      <td>inf</td>\n",
              "    </tr>\n",
              "  </tbody>\n",
              "</table>\n",
              "</div>"
            ],
            "text/plain": [
              "Medium       Print     TV    SEO  AdWords  ...  Instagram  Snapchat  Twitter  Email\n",
              "Lower Bound   -inf  0.039   -inf    0.033  ...      0.039      -inf     -inf  0.029\n",
              "Upper Bound  0.049  0.062  0.039    0.046  ...        inf     0.039    0.039    inf\n",
              "\n",
              "[2 rows x 10 columns]"
            ]
          },
          "metadata": {},
          "execution_count": 14
        }
      ]
    },
    {
      "cell_type": "markdown",
      "metadata": {
        "id": "v7W_oL8BObZ_"
      },
      "source": [
        "**7.)** Your boss has gained permission to reinvest half of the return. For example, if the marketing obtains a 4% return in January, the budget of February will be 10 Million + 10 Million  × 4% × 50% = $10.2M.  The monthly ROI for next year is given in roi_mat.csv. The three constraints given by your boss are still in place for each month.  What is the optimal allocation for each month?"
      ]
    },
    {
      "cell_type": "code",
      "metadata": {
        "id": "5e3kHE7S3K2x",
        "colab": {
          "base_uri": "https://localhost:8080/",
          "height": 420
        },
        "outputId": "a5aebcf5-d769-4f4f-a38a-d8a2a2f2f0ef"
      },
      "source": [
        "budget = 10\n",
        "budget_list = []\n",
        "allocation = []\n",
        "for i in range(1,13):\n",
        "    b3 = np.array([budget,0,0,3,3,3,3,3,3,3,3,3,3])\n",
        "    sense = np.array(['<','>','>','<','<','<','<','<','<','<','<','<','<'])\n",
        "    ojModel = gp.Model()\n",
        "\n",
        "    ojModX = ojModel.addMVar(10)\n",
        "    ojModCon = ojModel.addMConstrs(A, ojModX, sense, b3)\n",
        "    ojModel.setMObjective(None,obj,0,sense=gp.GRB.MAXIMIZE)\n",
        "\n",
        "    ojModel.Params.OutputFlag = 0\n",
        "    ojModel.optimize()\n",
        "    ojModel.objVal\n",
        "    allocation.append(ojModX.x)\n",
        "    ror = (ojModX.x@df_monthly.iloc[i-1,1:]*0.01*0.5)\n",
        "    budget_list.append(budget)\n",
        "    budget = budget + ror\n",
        "\n",
        "months = ['Jan','Feb','Mar','Apr','May','Jun','Jul','Aug','Sep','Oct','Nov','Dec']\n",
        "opt_allocation = pd.DataFrame(allocation, index=months ,columns=names[1:])\n",
        "opt_allocation['Budget'] = budget_list\n",
        "opt_allocation = opt_allocation.round(3)\n",
        "opt_allocation"
      ],
      "execution_count": null,
      "outputs": [
        {
          "output_type": "execute_result",
          "data": {
            "text/html": [
              "<div>\n",
              "<style scoped>\n",
              "    .dataframe tbody tr th:only-of-type {\n",
              "        vertical-align: middle;\n",
              "    }\n",
              "\n",
              "    .dataframe tbody tr th {\n",
              "        vertical-align: top;\n",
              "    }\n",
              "\n",
              "    .dataframe thead th {\n",
              "        text-align: right;\n",
              "    }\n",
              "</style>\n",
              "<table border=\"1\" class=\"dataframe\">\n",
              "  <thead>\n",
              "    <tr style=\"text-align: right;\">\n",
              "      <th></th>\n",
              "      <th>Print</th>\n",
              "      <th>TV</th>\n",
              "      <th>SEO</th>\n",
              "      <th>AdWords</th>\n",
              "      <th>Facebook</th>\n",
              "      <th>LinkedIn</th>\n",
              "      <th>Instagram</th>\n",
              "      <th>Snapchat</th>\n",
              "      <th>Twitter</th>\n",
              "      <th>Email</th>\n",
              "      <th>Budget</th>\n",
              "    </tr>\n",
              "  </thead>\n",
              "  <tbody>\n",
              "    <tr>\n",
              "      <th>Jan</th>\n",
              "      <td>0.0</td>\n",
              "      <td>3.0</td>\n",
              "      <td>0.0</td>\n",
              "      <td>1.000</td>\n",
              "      <td>0.0</td>\n",
              "      <td>0.0</td>\n",
              "      <td>3.0</td>\n",
              "      <td>0.0</td>\n",
              "      <td>0.000</td>\n",
              "      <td>3.0</td>\n",
              "      <td>10.000</td>\n",
              "    </tr>\n",
              "    <tr>\n",
              "      <th>Feb</th>\n",
              "      <td>0.0</td>\n",
              "      <td>3.0</td>\n",
              "      <td>0.0</td>\n",
              "      <td>1.180</td>\n",
              "      <td>0.0</td>\n",
              "      <td>0.0</td>\n",
              "      <td>3.0</td>\n",
              "      <td>0.0</td>\n",
              "      <td>0.000</td>\n",
              "      <td>3.0</td>\n",
              "      <td>10.180</td>\n",
              "    </tr>\n",
              "    <tr>\n",
              "      <th>Mar</th>\n",
              "      <td>0.0</td>\n",
              "      <td>3.0</td>\n",
              "      <td>0.0</td>\n",
              "      <td>1.354</td>\n",
              "      <td>0.0</td>\n",
              "      <td>0.0</td>\n",
              "      <td>3.0</td>\n",
              "      <td>0.0</td>\n",
              "      <td>0.000</td>\n",
              "      <td>3.0</td>\n",
              "      <td>10.354</td>\n",
              "    </tr>\n",
              "    <tr>\n",
              "      <th>Apr</th>\n",
              "      <td>0.0</td>\n",
              "      <td>3.0</td>\n",
              "      <td>0.0</td>\n",
              "      <td>1.505</td>\n",
              "      <td>0.0</td>\n",
              "      <td>0.0</td>\n",
              "      <td>3.0</td>\n",
              "      <td>0.0</td>\n",
              "      <td>0.011</td>\n",
              "      <td>3.0</td>\n",
              "      <td>10.516</td>\n",
              "    </tr>\n",
              "    <tr>\n",
              "      <th>May</th>\n",
              "      <td>0.0</td>\n",
              "      <td>3.0</td>\n",
              "      <td>0.0</td>\n",
              "      <td>1.565</td>\n",
              "      <td>0.0</td>\n",
              "      <td>0.0</td>\n",
              "      <td>3.0</td>\n",
              "      <td>0.0</td>\n",
              "      <td>0.130</td>\n",
              "      <td>3.0</td>\n",
              "      <td>10.695</td>\n",
              "    </tr>\n",
              "    <tr>\n",
              "      <th>Jun</th>\n",
              "      <td>0.0</td>\n",
              "      <td>3.0</td>\n",
              "      <td>0.0</td>\n",
              "      <td>1.630</td>\n",
              "      <td>0.0</td>\n",
              "      <td>0.0</td>\n",
              "      <td>3.0</td>\n",
              "      <td>0.0</td>\n",
              "      <td>0.260</td>\n",
              "      <td>3.0</td>\n",
              "      <td>10.889</td>\n",
              "    </tr>\n",
              "    <tr>\n",
              "      <th>Jul</th>\n",
              "      <td>0.0</td>\n",
              "      <td>3.0</td>\n",
              "      <td>0.0</td>\n",
              "      <td>1.700</td>\n",
              "      <td>0.0</td>\n",
              "      <td>0.0</td>\n",
              "      <td>3.0</td>\n",
              "      <td>0.0</td>\n",
              "      <td>0.399</td>\n",
              "      <td>3.0</td>\n",
              "      <td>11.099</td>\n",
              "    </tr>\n",
              "    <tr>\n",
              "      <th>Aug</th>\n",
              "      <td>0.0</td>\n",
              "      <td>3.0</td>\n",
              "      <td>0.0</td>\n",
              "      <td>1.773</td>\n",
              "      <td>0.0</td>\n",
              "      <td>0.0</td>\n",
              "      <td>3.0</td>\n",
              "      <td>0.0</td>\n",
              "      <td>0.547</td>\n",
              "      <td>3.0</td>\n",
              "      <td>11.320</td>\n",
              "    </tr>\n",
              "    <tr>\n",
              "      <th>Sep</th>\n",
              "      <td>0.0</td>\n",
              "      <td>3.0</td>\n",
              "      <td>0.0</td>\n",
              "      <td>1.846</td>\n",
              "      <td>0.0</td>\n",
              "      <td>0.0</td>\n",
              "      <td>3.0</td>\n",
              "      <td>0.0</td>\n",
              "      <td>0.692</td>\n",
              "      <td>3.0</td>\n",
              "      <td>11.537</td>\n",
              "    </tr>\n",
              "    <tr>\n",
              "      <th>Oct</th>\n",
              "      <td>0.0</td>\n",
              "      <td>3.0</td>\n",
              "      <td>0.0</td>\n",
              "      <td>1.908</td>\n",
              "      <td>0.0</td>\n",
              "      <td>0.0</td>\n",
              "      <td>3.0</td>\n",
              "      <td>0.0</td>\n",
              "      <td>0.817</td>\n",
              "      <td>3.0</td>\n",
              "      <td>11.725</td>\n",
              "    </tr>\n",
              "    <tr>\n",
              "      <th>Nov</th>\n",
              "      <td>0.0</td>\n",
              "      <td>3.0</td>\n",
              "      <td>0.0</td>\n",
              "      <td>1.973</td>\n",
              "      <td>0.0</td>\n",
              "      <td>0.0</td>\n",
              "      <td>3.0</td>\n",
              "      <td>0.0</td>\n",
              "      <td>0.947</td>\n",
              "      <td>3.0</td>\n",
              "      <td>11.920</td>\n",
              "    </tr>\n",
              "    <tr>\n",
              "      <th>Dec</th>\n",
              "      <td>0.0</td>\n",
              "      <td>3.0</td>\n",
              "      <td>0.0</td>\n",
              "      <td>2.050</td>\n",
              "      <td>0.0</td>\n",
              "      <td>0.0</td>\n",
              "      <td>3.0</td>\n",
              "      <td>0.0</td>\n",
              "      <td>1.099</td>\n",
              "      <td>3.0</td>\n",
              "      <td>12.149</td>\n",
              "    </tr>\n",
              "  </tbody>\n",
              "</table>\n",
              "</div>"
            ],
            "text/plain": [
              "     Print   TV  SEO  AdWords  ...  Snapchat  Twitter  Email  Budget\n",
              "Jan    0.0  3.0  0.0    1.000  ...       0.0    0.000    3.0  10.000\n",
              "Feb    0.0  3.0  0.0    1.180  ...       0.0    0.000    3.0  10.180\n",
              "Mar    0.0  3.0  0.0    1.354  ...       0.0    0.000    3.0  10.354\n",
              "Apr    0.0  3.0  0.0    1.505  ...       0.0    0.011    3.0  10.516\n",
              "May    0.0  3.0  0.0    1.565  ...       0.0    0.130    3.0  10.695\n",
              "Jun    0.0  3.0  0.0    1.630  ...       0.0    0.260    3.0  10.889\n",
              "Jul    0.0  3.0  0.0    1.700  ...       0.0    0.399    3.0  11.099\n",
              "Aug    0.0  3.0  0.0    1.773  ...       0.0    0.547    3.0  11.320\n",
              "Sep    0.0  3.0  0.0    1.846  ...       0.0    0.692    3.0  11.537\n",
              "Oct    0.0  3.0  0.0    1.908  ...       0.0    0.817    3.0  11.725\n",
              "Nov    0.0  3.0  0.0    1.973  ...       0.0    0.947    3.0  11.920\n",
              "Dec    0.0  3.0  0.0    2.050  ...       0.0    1.099    3.0  12.149\n",
              "\n",
              "[12 rows x 11 columns]"
            ]
          },
          "metadata": {},
          "execution_count": 15
        }
      ]
    },
    {
      "cell_type": "markdown",
      "metadata": {
        "id": "rzwVfQmMOf9V"
      },
      "source": [
        "**8.)** A stable budget is defined as a monthly allocation such that for each platform the monthly change in spend is no more than $1M. Is the allocation you found stable? If it isn’t, you do not need to solve a new optimization model.  Describe how my might model this?"
      ]
    },
    {
      "cell_type": "markdown",
      "metadata": {
        "id": "-WFUnH9pK-NP"
      },
      "source": [
        "Every medium is stable as the biggest budget increase in one month occurs when the AdWords budget increases by $180,000 in February. The allocation we found is stable. "
      ]
    },
    {
      "cell_type": "markdown",
      "metadata": {
        "id": "bsGb4RF_LBBM"
      },
      "source": [
        "EXTRA: Plots"
      ]
    },
    {
      "cell_type": "code",
      "metadata": {
        "id": "_nyZBg42VdIR"
      },
      "source": [
        "import matplotlib.pyplot as plt\n",
        "import numpy as np\n",
        "import pandas as pd"
      ],
      "execution_count": null,
      "outputs": []
    },
    {
      "cell_type": "code",
      "metadata": {
        "colab": {
          "base_uri": "https://localhost:8080/",
          "height": 269
        },
        "id": "uQSYztMdV4Kr",
        "outputId": "21f0490f-0696-4e03-dcd9-463ac2f845dd"
      },
      "source": [
        "plot_list = list(roi.columns).copy()\n",
        "plot_list.pop(0)\n",
        "plt.plot(opt_allocation)\n",
        "plt.legend(list(roi.columns),loc='best') \n",
        "plt.ylim([-0.1, 4])\n",
        "plt.show()"
      ],
      "execution_count": null,
      "outputs": [
        {
          "output_type": "display_data",
          "data": {
            "image/png": "[encoded data removed]",
            "text/plain": [
              "<Figure size 432x288 with 1 Axes>"
            ]
          },
          "metadata": {
            "needs_background": "light"
          }
        }
      ]
    },
    {
      "cell_type": "code",
      "metadata": {
        "colab": {
          "base_uri": "https://localhost:8080/"
        },
        "id": "SZHHkdZ_bZI0",
        "outputId": "66711c79-5e45-4cf0-c68b-1c5cd12dc7cd"
      },
      "source": [
        "platforms_list = plot_list\n",
        "platforms = pd.Series.sum(opt_allocation)\n",
        "#for x in platforms:\n",
        "if x == 0: platforms_list.pop(x)\n",
        "\n",
        "platforms_list\n",
        "platforms"
      ],
      "execution_count": null,
      "outputs": [
        {
          "output_type": "execute_result",
          "data": {
            "text/plain": [
              "Print          0.000\n",
              "TV            36.000\n",
              "SEO            0.000\n",
              "AdWords       19.484\n",
              "Facebook       0.000\n",
              "LinkedIn       0.000\n",
              "Instagram     36.000\n",
              "Snapchat       0.000\n",
              "Twitter        4.902\n",
              "Email         36.000\n",
              "Budget       132.384\n",
              "dtype: float64"
            ]
          },
          "metadata": {},
          "execution_count": 21
        }
      ]
    }
  ]
}