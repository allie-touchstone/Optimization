{
 "cells": [
  {
   "cell_type": "code",
   "execution_count": 1,
   "id": "dd77cb43",
   "metadata": {},
   "outputs": [],
   "source": [
    "import numpy as np\n",
    "import gurobipy as gp"
   ]
  },
  {
   "cell_type": "markdown",
   "id": "aad061f7",
   "metadata": {},
   "source": [
    "# Questions 1\n",
    "Max is in a pie eating contest that lasts 1 hour. Each torte that he eats takes 2 minutes to eat. Each apple pie that he eats takes 3 minutes. He receives 4 points for each torte and 5 points for each pie. Find the number of tortes and apple pies Max should eat to get the most points. Solve the problem using the graphical method."
   ]
  },
  {
   "cell_type": "code",
   "execution_count": 26,
   "id": "b28f08bf",
   "metadata": {},
   "outputs": [],
   "source": [
    "obj = np.array([4,5]) # want to maximize\n",
    "A = np.zeros((1,2)) # initialize constraint matrix\n",
    "A[0,:] = [2,3] \n",
    "b = np.array([60]) \n",
    "sense = np.array(['<']) \n",
    "print(A)"
   ]
  },
  {
   "cell_type": "code",
   "execution_count": 28,
   "id": "9a23119f",
   "metadata": {},
   "outputs": [],
   "source": [
    "ojModel = gp.Model() # initialize an empty model\n",
    "\n",
    "ojModX = ojModel.addMVar(2) # tell the model how many variables there are, where optimal objectives are stored\n",
    "ojModCon = ojModel.addMConstrs(A, ojModX, sense, b) # add the constraints to the model (A, )\n",
    "ojModel.setMObjective(None,obj,0,sense=gp.GRB.MAXIMIZE)\n",
    "\n",
    "ojModel.Params.OutputFlag = 0 \n",
    "ojModel.optimize()"
   ]
  },
  {
   "cell_type": "code",
   "execution_count": 29,
   "id": "a86b3be4",
   "metadata": {},
   "outputs": [],
   "source": [
    "pt_lover = ojModel.objVal # optimal revenue level"
   ]
  },
  {
   "cell_type": "code",
   "execution_count": 30,
   "id": "401667b7",
   "metadata": {},
   "outputs": [
    {
     "data": {
      "text/plain": [
       "array([30.,  0.])"
      ]
     },
     "execution_count": 30,
     "metadata": {},
     "output_type": "execute_result"
    }
   ],
   "source": [
    "ojModX.x # tarts eaten vs pies eaten"
   ]
  },
  {
   "cell_type": "markdown",
   "id": "cc17c7d2",
   "metadata": {},
   "source": [
    "### Question 1.b\n",
    "\n",
    "Next, let’s see what happens if he would like to stick to his preference of eating at least as many pies as tortes. That is; the number of pies he eats should be greater than or equal to the number of tortes."
   ]
  },
  {
   "cell_type": "code",
   "execution_count": 50,
   "id": "e779824b",
   "metadata": {},
   "outputs": [
    {
     "name": "stdout",
     "output_type": "stream",
     "text": [
      "[[ 2.  3.]\n",
      " [-1.  1.]]\n"
     ]
    }
   ],
   "source": [
    "obj = np.array([4,5]) \n",
    "A = np.zeros((2,2)) \n",
    "A[0,:] = [2,3] \n",
    "A[1,:] = [-1,1] \n",
    "b = np.array([60,0]) \n",
    "sense = np.array(['<','>']) \n",
    "print(A)"
   ]
  },
  {
   "cell_type": "code",
   "execution_count": 21,
   "id": "27698914",
   "metadata": {},
   "outputs": [],
   "source": [
    "ojModel = gp.Model() \n",
    "ojModX = ojModel.addMVar(2) \n",
    "ojModCon = ojModel.addMConstrs(A, ojModX, sense, b) \n",
    "ojModel.setMObjective(None,obj,0,sense=gp.GRB.MAXIMIZE)\n",
    "\n",
    "ojModel.Params.OutputFlag = 0 \n",
    "ojModel.optimize() "
   ]
  },
  {
   "cell_type": "code",
   "execution_count": 25,
   "id": "c5295043",
   "metadata": {},
   "outputs": [],
   "source": [
    "pie_lover = ojModel.objVal # optimal revenue level"
   ]
  },
  {
   "cell_type": "code",
   "execution_count": 23,
   "id": "8532a12e",
   "metadata": {},
   "outputs": [],
   "source": [
    "ojModX.x # tarts eaten vs pies eaten"
   ]
  },
  {
   "cell_type": "markdown",
   "id": "fa02e7ae",
   "metadata": {},
   "source": [
    "### Question 1.c\n",
    "By how many points does this constraint decrease Max’s total points? (this is the part you will submit to the canvas answer.)"
   ]
  },
  {
   "cell_type": "code",
   "execution_count": 31,
   "id": "04ec3a41",
   "metadata": {},
   "outputs": [
    {
     "data": {
      "text/plain": [
       "12.0"
      ]
     },
     "execution_count": 31,
     "metadata": {},
     "output_type": "execute_result"
    }
   ],
   "source": [
    "pt_lover - pie_lover"
   ]
  },
  {
   "cell_type": "markdown",
   "id": "8bbd8ca0",
   "metadata": {},
   "source": [
    "### Answer: \n",
    "Max will earn 12 fewer points if he decides to eat at least as many pies as tortes."
   ]
  },
  {
   "cell_type": "markdown",
   "id": "08567859",
   "metadata": {},
   "source": [
    "# Question 2\n",
    "A farmer in Iowa owns 450 acres of land. He is going to plant each acre with wheat or corn. Each acre planted with wheat (corn) yields $2,000 ($3,000) profit, requires three (two) workers, and requires two (four) tons of fertilizer. There are currently 1,000 workers and 1,200 tons of fertilizer available.\n",
    "\n",
    " \n",
    "\n",
    "Formulate and solve this problem using gurobi.\n",
    "\n",
    " "
   ]
  },
  {
   "cell_type": "code",
   "execution_count": 32,
   "id": "c477a2fc",
   "metadata": {},
   "outputs": [],
   "source": [
    "obj = np.array([2000,3000]) \n",
    "A = np.zeros((3,2)) \n",
    "A[0,:] = [1,1] \n",
    "A[1,:] = [3,2] \n",
    "A[2,:] = [2,4] \n",
    "b = np.array([450,1000,1200]) \n",
    "sense = np.array(['<','<','<']) "
   ]
  },
  {
   "cell_type": "code",
   "execution_count": 33,
   "id": "37257f18",
   "metadata": {},
   "outputs": [],
   "source": [
    "ojModel = gp.Model() \n",
    "ojModX = ojModel.addMVar(2) \n",
    "ojModCon = ojModel.addMConstrs(A, ojModX, sense, b) \n",
    "ojModel.setMObjective(None,obj,0,sense=gp.GRB.MAXIMIZE) \n",
    "\n",
    "ojModel.Params.OutputFlag = 0 \n",
    "ojModel.optimize()"
   ]
  },
  {
   "cell_type": "code",
   "execution_count": 34,
   "id": "d2bdd401",
   "metadata": {},
   "outputs": [
    {
     "data": {
      "text/plain": [
       "1000000.0"
      ]
     },
     "execution_count": 34,
     "metadata": {},
     "output_type": "execute_result"
    }
   ],
   "source": [
    "ojModel.objVal"
   ]
  },
  {
   "cell_type": "code",
   "execution_count": 35,
   "id": "942ff9ed",
   "metadata": {},
   "outputs": [
    {
     "data": {
      "text/plain": [
       "array([200., 200.])"
      ]
     },
     "execution_count": 35,
     "metadata": {},
     "output_type": "execute_result"
    }
   ],
   "source": [
    "ojModX.x"
   ]
  },
  {
   "cell_type": "markdown",
   "id": "51b7ab39",
   "metadata": {},
   "source": [
    "With these contstraints, the framer's revenue is $1,000,000. This is the with him planting wheat on 200 acres and corn on 200 acres and leaving 50 acres unplanted."
   ]
  },
  {
   "cell_type": "markdown",
   "id": "00c07357",
   "metadata": {},
   "source": [
    "### Question 2.b\n",
    "Next we want to see What happens to the decision variables and the total profit when the availability of fertilizer varies from 200 tons to 2200 tons in 100-ton increments.\n",
    "\n",
    " \n",
    "\n",
    "At what level of fertilizer does the farmer discontinue producing wheat?  That is, what is the smallest level of available fertilizer that results in no wheat being produced?  Your answer should be one of the 100 ton incremental numbers, like 600 or 1300 or..."
   ]
  },
  {
   "cell_type": "code",
   "execution_count": 49,
   "id": "34a1f0d9",
   "metadata": {},
   "outputs": [
    {
     "name": "stdout",
     "output_type": "stream",
     "text": [
      "200 tons of fertilizer produces [100.   0.] acres of wheat and corn\n",
      "300 tons of fertilizer produces [150.   0.] acres of wheat and corn\n",
      "400 tons of fertilizer produces [200.   0.] acres of wheat and corn\n",
      "500 tons of fertilizer produces [250.   0.] acres of wheat and corn\n",
      "600 tons of fertilizer produces [300.   0.] acres of wheat and corn\n",
      "700 tons of fertilizer produces [325.   12.5] acres of wheat and corn\n",
      "800 tons of fertilizer produces [300.  50.] acres of wheat and corn\n",
      "900 tons of fertilizer produces [275.   87.5] acres of wheat and corn\n",
      "1000 tons of fertilizer produces [250. 125.] acres of wheat and corn\n",
      "1100 tons of fertilizer produces [225.  162.5] acres of wheat and corn\n",
      "1200 tons of fertilizer produces [200. 200.] acres of wheat and corn\n",
      "1300 tons of fertilizer produces [175.  237.5] acres of wheat and corn\n",
      "1400 tons of fertilizer produces [150. 275.] acres of wheat and corn\n",
      "1500 tons of fertilizer produces [125.  312.5] acres of wheat and corn\n",
      "1600 tons of fertilizer produces [100. 350.] acres of wheat and corn\n",
      "1700 tons of fertilizer produces [ 50. 400.] acres of wheat and corn\n",
      "1800 tons of fertilizer produces [  0. 450.] acres of wheat and corn\n",
      "1900 tons of fertilizer produces [  0. 450.] acres of wheat and corn\n",
      "2000 tons of fertilizer produces [  0. 450.] acres of wheat and corn\n",
      "2100 tons of fertilizer produces [  0. 450.] acres of wheat and corn\n",
      "2200 tons of fertilizer produces [  0. 450.] acres of wheat and corn\n"
     ]
    }
   ],
   "source": [
    "i = 200\n",
    "rev= []\n",
    "num = []\n",
    "while i <= 2200:\n",
    "    obj = np.array([2000,3000]) \n",
    "    A = np.zeros((3,2)) \n",
    "    A[0,:] = [1,1] \n",
    "    A[1,:] = [3,2]\n",
    "    A[2,:] = [2,4] \n",
    "    b = np.array([450,1000,i])\n",
    "    sense = np.array(['<','<','<'])\n",
    "    \n",
    "    ojModel = gp.Model() \n",
    "    ojModX = ojModel.addMVar(2) \n",
    "    \n",
    "    ojModCon = ojModel.addMConstrs(A, ojModX, sense, b) \n",
    "    ojModel.setMObjective(None,obj,0,sense=gp.GRB.MAXIMIZE) \n",
    "    ojModel.Params.OutputFlag = 0 \n",
    "    ojModel.optimize()\n",
    "    rev = ojModel.objVal\n",
    "    num = ojModX.x\n",
    "    print ('{0} tons of fertilizer produces {1} acres of wheat and corn'.format(i,num))\n",
    "    i = i + 100"
   ]
  },
  {
   "cell_type": "markdown",
   "id": "13f90f2f",
   "metadata": {},
   "source": [
    "### Answer: \n",
    "1800 tons of fertlizer is smallest about of ferilizer that produces no wheat"
   ]
  },
  {
   "attachments": {},
   "cell_type": "markdown",
   "id": "1b54e34d",
   "metadata": {},
   "source": [
    "# Question 3\n",
    "Star Oil Company is considering five different investment opportunities. The table below gives the required cash outflows and net present values in millions of dollars.\n",
    "\n",
    "Star Oil has $40 million available for investment now (time 0); it estimates that one year from now (time 1) $20 million will be available for investment. Star Oil may purchase any fraction of each investment, but no more than 100% of each opportunity. In this case, the cash outflows and NPV are adjusted accordingly.\n",
    "\n",
    "For example, if Star Oil purchases one-fifth of investment 3, then a cash outflow of 1/5 × 5 = 1 million dollars would be required at time 0, and a cash outflow of 1/5 × 5 = 1 million would be required at time 1. The one-fifth share of investment three would yield an NPV of 1/5 ∗ 16 = 3.2 million dollars. Star Oil wants to maximize the NPV that can be obtained by investing in investments 1-5. Formulate an LP that will help achieve this goal. Assume that any funds leftover at time 0 cannot be used at time 1.\n",
    "\n",
    " \n",
    "What percentage of opportunity 3 should be Star Oil invest in?  Answer in decimals, so if your answer is 54%, you should input 0.54.  Round 2 to decimal places"
   ]
  },
  {
   "cell_type": "code",
   "execution_count": 51,
   "id": "f2083f24",
   "metadata": {},
   "outputs": [
    {
     "name": "stdout",
     "output_type": "stream",
     "text": [
      "[[11. 53.  5.  5. 29.]\n",
      " [ 3.  6.  5.  1. 34.]\n",
      " [ 1.  0.  0.  0.  0.]\n",
      " [ 0.  1.  0.  0.  0.]\n",
      " [ 0.  0.  1.  0.  0.]\n",
      " [ 0.  0.  0.  1.  0.]\n",
      " [ 0.  0.  0.  0.  1.]]\n"
     ]
    }
   ],
   "source": [
    "obj = np.array([13,16,16,14,39]) \n",
    "A = np.zeros((7,5)) \n",
    "A[0,:] = [11,53,5,5,29] \n",
    "A[1,:] = [3,6,5,1,34] \n",
    "A[2,:] = [1,0,0,0,0] \n",
    "A[3,:] = [0,1,0,0,0] \n",
    "A[4,:] = [0,0,1,0,0] \n",
    "A[5,:] = [0,0,0,1,0] \n",
    "A[6,:] = [0,0,0,0,1] \n",
    "b = np.array([40,20,1,1,1,1,1]) \n",
    "sense = np.array(['<','<','<','<','<','<','<'])\n",
    "print(A)"
   ]
  },
  {
   "cell_type": "code",
   "execution_count": 52,
   "id": "c6481b7c",
   "metadata": {},
   "outputs": [],
   "source": [
    "ojModel = gp.Model() \n",
    "ojModX = ojModel.addMVar(5) \n",
    "ojModCon = ojModel.addMConstrs(A, ojModX, sense, b) \n",
    "ojModel.setMObjective(None,obj,0,sense=gp.GRB.MAXIMIZE) \n",
    "ojModel.Params.OutputFlag = 0 \n",
    "ojModel.optimize()"
   ]
  },
  {
   "cell_type": "code",
   "execution_count": 53,
   "id": "ad19449c",
   "metadata": {},
   "outputs": [
    {
     "data": {
      "text/plain": [
       "57.449017199017206"
      ]
     },
     "execution_count": 53,
     "metadata": {},
     "output_type": "execute_result"
    }
   ],
   "source": [
    "ojModel.objVal"
   ]
  },
  {
   "cell_type": "code",
   "execution_count": 56,
   "id": "0e9d31b7",
   "metadata": {},
   "outputs": [
    {
     "data": {
      "text/plain": [
       "array([1.        , 0.20085995, 1.        , 1.        , 0.28808354])"
      ]
     },
     "execution_count": 56,
     "metadata": {},
     "output_type": "execute_result"
    }
   ],
   "source": [
    "v = ojModX.x\n",
    "v"
   ]
  },
  {
   "cell_type": "code",
   "execution_count": 57,
   "id": "048f5c7c",
   "metadata": {},
   "outputs": [
    {
     "data": {
      "text/plain": [
       "array([11.       , 10.6455774,  5.       ,  5.       ,  8.3544226])"
      ]
     },
     "execution_count": 57,
     "metadata": {},
     "output_type": "execute_result"
    }
   ],
   "source": [
    "v*[11,53,5,5,29]"
   ]
  },
  {
   "cell_type": "markdown",
   "id": "c83d43b6",
   "metadata": {},
   "source": [
    "### Answer: \n",
    "Star Oil should invest 100% in oppurtunity 3."
   ]
  },
  {
   "cell_type": "markdown",
   "id": "25cc9cab",
   "metadata": {},
   "source": [
    "# Question 4\n",
    "The goal of this problem is to select a set of foods that will satisfy a set of daily nutritional requirement at minimum cost. Suppose there are three foods available, corn, milk, and bread. There are restrictions on the number of calories (between 2000 and 2250) and the amount of Vitamin A (between 5000 and 50,000) that can be eaten. The table below shows, for each food, the cost per serving, the amount of Vitamin A per serving, and the number of calories per serving. Also, the maximum number of servings for each food is 10.\n",
    "\n",
    "How many servings of corn should you eat?  Round to 2 decimal places."
   ]
  },
  {
   "cell_type": "code",
   "execution_count": 7,
   "id": "690540dd",
   "metadata": {},
   "outputs": [
    {
     "name": "stdout",
     "output_type": "stream",
     "text": [
      "[[ 72. 121.  65.]\n",
      " [ 72. 121.  65.]\n",
      " [107. 500.   0.]\n",
      " [107. 500.   0.]\n",
      " [  1.   0.   0.]\n",
      " [  0.   1.   0.]\n",
      " [  0.   0.   1.]]\n"
     ]
    }
   ],
   "source": [
    "obj = np.array([.18,.23,.05]) \n",
    "A = np.zeros((7,3)) \n",
    "A[0,:] = [72,121,65] \n",
    "A[1,:] = [72,121,65] \n",
    "A[2,:] = [107,500,0] \n",
    "A[3,:] = [107,500,0] \n",
    "A[4,:] = [1,0,0] \n",
    "A[5,:] = [0,1,0] \n",
    "A[6,:] = [0,0,1] \n",
    "\n",
    "b = np.array([2000,2250,5000,50000,10,10,10]) \n",
    "sense = np.array(['>','<','>','<','<','<','<']) \n",
    "print(A)"
   ]
  },
  {
   "cell_type": "code",
   "execution_count": 11,
   "id": "74d5a5b6",
   "metadata": {},
   "outputs": [],
   "source": [
    "ojModel = gp.Model() \n",
    "ojModX = ojModel.addMVar(3) \n",
    "ojModCon = ojModel.addMConstrs(A, ojModX, sense, b) \n",
    "ojModel.setMObjective(None,obj,0,sense=gp.GRB.MINIMIZE) \n",
    "\n",
    "ojModel.Params.OutputFlag = 0 \n",
    "ojModel.optimize()"
   ]
  },
  {
   "cell_type": "code",
   "execution_count": 12,
   "id": "90e2b9a6",
   "metadata": {},
   "outputs": [
    {
     "data": {
      "text/plain": [
       "3.1500000000000004"
      ]
     },
     "execution_count": 12,
     "metadata": {},
     "output_type": "execute_result"
    }
   ],
   "source": [
    "ojModel.objVal"
   ]
  },
  {
   "cell_type": "code",
   "execution_count": 13,
   "id": "e8cbcfbc",
   "metadata": {},
   "outputs": [
    {
     "data": {
      "text/plain": [
       "array([ 1.94444444, 10.        , 10.        ])"
      ]
     },
     "execution_count": 13,
     "metadata": {},
     "output_type": "execute_result"
    }
   ],
   "source": [
    "ojModX.x"
   ]
  },
  {
   "cell_type": "markdown",
   "id": "d3d57919",
   "metadata": {},
   "source": [
    "### Answer: \n",
    "You should eat 1.94 servings of corn."
   ]
  },
  {
   "cell_type": "markdown",
   "id": "7958f3cf",
   "metadata": {},
   "source": [
    "# Question 5\n",
    "Paper and wood products companies need to define cutting schedules that will maximize the total wood yield of their forests over some planning period. Suppose that a firm with control of 2 forest units wants to identify the best cutting schedule over a planning horizon of 3 years. Forest unit 1 has a total acreage of 2 and unit 2 has a total of 3 acres. The studies that the company has undertaken predict that each acre in unit 1(2) will have 1, 1.3, 1.4 (1, 1.2, 1.6) tons of woods per acre available for harvesting in year 1, 2, 3 respectively. Based on its prediction of economic conditions, the company believes that it should harvest at least 1.2, 1.5, 2 tons of wood in year 1, 2, 3 separately. Due to the availability of equipment and personnel, the company can harvest at most 2, 2, 3 tons of wood in year 1, 2, 3. Find the company’s best cutting strategy that maximizes the total weights of wood. Here discounting of the time value should not be considered.  If some fraction of a forest unit is cut down in year 1, that part of the forest cannot be cut again for the remaining 2 years.  Similarly if some fraction of the forest unit is cut down in year 2 it cannot be cut in year 3.\n",
    "\n",
    " \n",
    "\n",
    "In year 3, how many acres of forest unit 2 should be cut down?  Round to 2 decimal places."
   ]
  },
  {
   "cell_type": "code",
   "execution_count": 17,
   "id": "d86c6f0d",
   "metadata": {},
   "outputs": [
    {
     "name": "stdout",
     "output_type": "stream",
     "text": [
      "[[1.  1.  1.  0.  0.  0. ]\n",
      " [0.  0.  0.  1.  1.  1. ]\n",
      " [2.  0.  0.  3.  0.  0. ]\n",
      " [2.  0.  0.  3.  0.  0. ]\n",
      " [0.  2.6 0.  0.  3.6 0. ]\n",
      " [0.  2.6 0.  0.  3.6 0. ]\n",
      " [0.  0.  2.8 0.  0.  4.8]\n",
      " [0.  0.  2.8 0.  0.  4.8]]\n"
     ]
    }
   ],
   "source": [
    "obj = np.array([1,1,1,1,1,1]) \n",
    "A = np.zeros((8,6)) \n",
    "A[0,:] = [1,1,1,0,0,0] \n",
    "A[1,:] = [0,0,0,1,1,1] \n",
    "A[2,:] = [2,0,0,3,0,0] \n",
    "A[3,:] = [2,0,0,3,0,0]\n",
    "A[4,:] = [0,2.6,0,0,3.6,0]\n",
    "A[5,:] = [0,2.6,0,0,3.6,0]\n",
    "A[6,:] = [0,0,2.8,0,0,4.8]\n",
    "A[7,:] = [0,0,2.8,0,0,4.8]\n",
    "\n",
    "\n",
    "b = np.array([1, 1, 1.2, 2, 1.5, 2, 2, 3]) \n",
    "sense = np.array(['<','<','>','<','>','<','>','<'])\n",
    "print(A)"
   ]
  },
  {
   "cell_type": "code",
   "execution_count": 18,
   "id": "a06dcfc9",
   "metadata": {},
   "outputs": [],
   "source": [
    "ojModel = gp.Model() \n",
    "ojModX = ojModel.addMVar(6) \n",
    "    \n",
    "ojModCon = ojModel.addMConstrs(A, ojModX, sense, b) \n",
    "ojModel.setMObjective(None,obj,0,sense=gp.GRB.MAXIMIZE) \n",
    "ojModel.Params.OutputFlag = 0 \n",
    "ojModel.optimize()"
   ]
  },
  {
   "cell_type": "code",
   "execution_count": 20,
   "id": "d08e1bb2",
   "metadata": {},
   "outputs": [
    {
     "data": {
      "text/plain": [
       "[0.23076923076923084, 0.7692307692307692, 0.0, 0.375, 0.0, 0.625]"
      ]
     },
     "execution_count": 20,
     "metadata": {},
     "output_type": "execute_result"
    }
   ],
   "source": [
    "ojModel.x"
   ]
  },
  {
   "cell_type": "code",
   "execution_count": 21,
   "id": "834f30d4",
   "metadata": {},
   "outputs": [
    {
     "data": {
      "text/plain": [
       "1.875"
      ]
     },
     "execution_count": 21,
     "metadata": {},
     "output_type": "execute_result"
    }
   ],
   "source": [
    "0.625*3"
   ]
  },
  {
   "cell_type": "markdown",
   "id": "f1c927e0",
   "metadata": {},
   "source": [
    "### Answer:\n",
    "In year 3, forest 2, they should cut down 1.875 (1.88) acres.\n",
    "\n",
    "0.625 is the percent of forest unit 2 that should be cut down then, and 3 is how many acres are in that unit."
   ]
  }
 ],
 "metadata": {
  "kernelspec": {
   "display_name": "Python 3 (ipykernel)",
   "language": "python",
   "name": "python3"
  },
  "language_info": {
   "codemirror_mode": {
    "name": "ipython",
    "version": 3
   },
   "file_extension": ".py",
   "mimetype": "text/x-python",
   "name": "python",
   "nbconvert_exporter": "python",
   "pygments_lexer": "ipython3",
   "version": "3.8.11"
  }
 },
 "nbformat": 4,
 "nbformat_minor": 5
}
